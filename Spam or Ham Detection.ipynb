{
 "cells": [
  {
   "cell_type": "markdown",
   "id": "7de9f3a8",
   "metadata": {},
   "source": [
    "# Case Study : Spam or Ham Prediction -SMS/Email Classifier"
   ]
  },
  {
   "cell_type": "raw",
   "id": "9f576b50",
   "metadata": {},
   "source": [
    "Dataset Name : SMS Spam Collection Dataset\n",
    "Dataset Link : https://www.kaggle.com/datasets/uciml/sms-spam-collection-dataset/code?datasetId=483&language=Python\n",
    "Date : 25, Mar 2022"
   ]
  },
  {
   "cell_type": "markdown",
   "id": "59a67661",
   "metadata": {},
   "source": [
    "## 1. Importing Necessary Libraries"
   ]
  },
  {
   "cell_type": "code",
   "execution_count": 1,
   "id": "658ef439",
   "metadata": {},
   "outputs": [],
   "source": [
    "# importing necessary libraries\n",
    "import numpy as np\n",
    "import pandas as pd\n",
    "import seaborn as sns\n",
    "import matplotlib.pyplot as plt\n"
   ]
  },
  {
   "cell_type": "code",
   "execution_count": 2,
   "id": "88801985",
   "metadata": {},
   "outputs": [],
   "source": [
    "# removing warning\n",
    "import warnings\n",
    "warnings.filterwarnings(\"ignore\")"
   ]
  },
  {
   "cell_type": "markdown",
   "id": "b4659ef4",
   "metadata": {},
   "source": [
    "## 2. Reading and Understanding the Data "
   ]
  },
  {
   "cell_type": "code",
   "execution_count": 3,
   "id": "aae988a3",
   "metadata": {},
   "outputs": [],
   "source": [
    "# data reading\n",
    "message =  pd.read_csv('spam.csv', encoding = \"ISO-8859-1\")\n",
    "\n",
    "# for preventing data loss copy to another variable\n",
    "df = message.copy()"
   ]
  },
  {
   "cell_type": "code",
   "execution_count": 4,
   "id": "c659ff1e",
   "metadata": {},
   "outputs": [
    {
     "data": {
      "text/html": [
       "<div>\n",
       "<style scoped>\n",
       "    .dataframe tbody tr th:only-of-type {\n",
       "        vertical-align: middle;\n",
       "    }\n",
       "\n",
       "    .dataframe tbody tr th {\n",
       "        vertical-align: top;\n",
       "    }\n",
       "\n",
       "    .dataframe thead th {\n",
       "        text-align: right;\n",
       "    }\n",
       "</style>\n",
       "<table border=\"1\" class=\"dataframe\">\n",
       "  <thead>\n",
       "    <tr style=\"text-align: right;\">\n",
       "      <th></th>\n",
       "      <th>v1</th>\n",
       "      <th>v2</th>\n",
       "      <th>Unnamed: 2</th>\n",
       "      <th>Unnamed: 3</th>\n",
       "      <th>Unnamed: 4</th>\n",
       "    </tr>\n",
       "  </thead>\n",
       "  <tbody>\n",
       "    <tr>\n",
       "      <th>3383</th>\n",
       "      <td>spam</td>\n",
       "      <td>FREE MSG:We billed your mobile number by mista...</td>\n",
       "      <td>NaN</td>\n",
       "      <td>NaN</td>\n",
       "      <td>NaN</td>\n",
       "    </tr>\n",
       "    <tr>\n",
       "      <th>3200</th>\n",
       "      <td>ham</td>\n",
       "      <td>Nice.nice.how is it working?</td>\n",
       "      <td>NaN</td>\n",
       "      <td>NaN</td>\n",
       "      <td>NaN</td>\n",
       "    </tr>\n",
       "    <tr>\n",
       "      <th>2653</th>\n",
       "      <td>ham</td>\n",
       "      <td>Sorry da:)i was thought of calling you lot of ...</td>\n",
       "      <td>NaN</td>\n",
       "      <td>NaN</td>\n",
       "      <td>NaN</td>\n",
       "    </tr>\n",
       "    <tr>\n",
       "      <th>3118</th>\n",
       "      <td>ham</td>\n",
       "      <td>Stop knowing me so well!</td>\n",
       "      <td>NaN</td>\n",
       "      <td>NaN</td>\n",
       "      <td>NaN</td>\n",
       "    </tr>\n",
       "    <tr>\n",
       "      <th>4100</th>\n",
       "      <td>spam</td>\n",
       "      <td>GSOH? Good with SPAM the ladies?U could b a ma...</td>\n",
       "      <td>NaN</td>\n",
       "      <td>NaN</td>\n",
       "      <td>NaN</td>\n",
       "    </tr>\n",
       "    <tr>\n",
       "      <th>5427</th>\n",
       "      <td>spam</td>\n",
       "      <td>Santa Calling! Would your little ones like a c...</td>\n",
       "      <td>NaN</td>\n",
       "      <td>NaN</td>\n",
       "      <td>NaN</td>\n",
       "    </tr>\n",
       "    <tr>\n",
       "      <th>2875</th>\n",
       "      <td>ham</td>\n",
       "      <td>Fuck cedar key and fuck her (come over anyway ...</td>\n",
       "      <td>NaN</td>\n",
       "      <td>NaN</td>\n",
       "      <td>NaN</td>\n",
       "    </tr>\n",
       "    <tr>\n",
       "      <th>3642</th>\n",
       "      <td>ham</td>\n",
       "      <td>Sorry, left phone upstairs. OK, might be hecti...</td>\n",
       "      <td>NaN</td>\n",
       "      <td>NaN</td>\n",
       "      <td>NaN</td>\n",
       "    </tr>\n",
       "    <tr>\n",
       "      <th>393</th>\n",
       "      <td>ham</td>\n",
       "      <td>Yes i think so. I am in office but my lap is i...</td>\n",
       "      <td>NaN</td>\n",
       "      <td>NaN</td>\n",
       "      <td>NaN</td>\n",
       "    </tr>\n",
       "    <tr>\n",
       "      <th>3366</th>\n",
       "      <td>ham</td>\n",
       "      <td>Hey what are you doing. Y no reply pa..</td>\n",
       "      <td>NaN</td>\n",
       "      <td>NaN</td>\n",
       "      <td>NaN</td>\n",
       "    </tr>\n",
       "  </tbody>\n",
       "</table>\n",
       "</div>"
      ],
      "text/plain": [
       "        v1                                                 v2 Unnamed: 2  \\\n",
       "3383  spam  FREE MSG:We billed your mobile number by mista...        NaN   \n",
       "3200   ham                       Nice.nice.how is it working?        NaN   \n",
       "2653   ham  Sorry da:)i was thought of calling you lot of ...        NaN   \n",
       "3118   ham                           Stop knowing me so well!        NaN   \n",
       "4100  spam  GSOH? Good with SPAM the ladies?U could b a ma...        NaN   \n",
       "5427  spam  Santa Calling! Would your little ones like a c...        NaN   \n",
       "2875   ham  Fuck cedar key and fuck her (come over anyway ...        NaN   \n",
       "3642   ham  Sorry, left phone upstairs. OK, might be hecti...        NaN   \n",
       "393    ham  Yes i think so. I am in office but my lap is i...        NaN   \n",
       "3366   ham            Hey what are you doing. Y no reply pa..        NaN   \n",
       "\n",
       "     Unnamed: 3 Unnamed: 4  \n",
       "3383        NaN        NaN  \n",
       "3200        NaN        NaN  \n",
       "2653        NaN        NaN  \n",
       "3118        NaN        NaN  \n",
       "4100        NaN        NaN  \n",
       "5427        NaN        NaN  \n",
       "2875        NaN        NaN  \n",
       "3642        NaN        NaN  \n",
       "393         NaN        NaN  \n",
       "3366        NaN        NaN  "
      ]
     },
     "execution_count": 4,
     "metadata": {},
     "output_type": "execute_result"
    }
   ],
   "source": [
    "df.sample(10)"
   ]
  },
  {
   "cell_type": "code",
   "execution_count": 5,
   "id": "e1b469b7",
   "metadata": {},
   "outputs": [
    {
     "data": {
      "text/plain": [
       "(5572, 5)"
      ]
     },
     "execution_count": 5,
     "metadata": {},
     "output_type": "execute_result"
    }
   ],
   "source": [
    "# shape of data\n",
    "df.shape"
   ]
  },
  {
   "cell_type": "code",
   "execution_count": 6,
   "id": "0f12d1f0",
   "metadata": {},
   "outputs": [
    {
     "data": {
      "text/plain": [
       "<bound method NDFrame.describe of         v1                                                 v2 Unnamed: 2  \\\n",
       "0      ham  Go until jurong point, crazy.. Available only ...        NaN   \n",
       "1      ham                      Ok lar... Joking wif u oni...        NaN   \n",
       "2     spam  Free entry in 2 a wkly comp to win FA Cup fina...        NaN   \n",
       "3      ham  U dun say so early hor... U c already then say...        NaN   \n",
       "4      ham  Nah I don't think he goes to usf, he lives aro...        NaN   \n",
       "...    ...                                                ...        ...   \n",
       "5567  spam  This is the 2nd time we have tried 2 contact u...        NaN   \n",
       "5568   ham              Will Ì_ b going to esplanade fr home?        NaN   \n",
       "5569   ham  Pity, * was in mood for that. So...any other s...        NaN   \n",
       "5570   ham  The guy did some bitching but I acted like i'd...        NaN   \n",
       "5571   ham                         Rofl. Its true to its name        NaN   \n",
       "\n",
       "     Unnamed: 3 Unnamed: 4  \n",
       "0           NaN        NaN  \n",
       "1           NaN        NaN  \n",
       "2           NaN        NaN  \n",
       "3           NaN        NaN  \n",
       "4           NaN        NaN  \n",
       "...         ...        ...  \n",
       "5567        NaN        NaN  \n",
       "5568        NaN        NaN  \n",
       "5569        NaN        NaN  \n",
       "5570        NaN        NaN  \n",
       "5571        NaN        NaN  \n",
       "\n",
       "[5572 rows x 5 columns]>"
      ]
     },
     "execution_count": 6,
     "metadata": {},
     "output_type": "execute_result"
    }
   ],
   "source": [
    "# describe the dataset\n",
    "df.describe"
   ]
  },
  {
   "cell_type": "code",
   "execution_count": 7,
   "id": "68d5b6b0",
   "metadata": {},
   "outputs": [
    {
     "data": {
      "text/plain": [
       "<bound method DataFrame.info of         v1                                                 v2 Unnamed: 2  \\\n",
       "0      ham  Go until jurong point, crazy.. Available only ...        NaN   \n",
       "1      ham                      Ok lar... Joking wif u oni...        NaN   \n",
       "2     spam  Free entry in 2 a wkly comp to win FA Cup fina...        NaN   \n",
       "3      ham  U dun say so early hor... U c already then say...        NaN   \n",
       "4      ham  Nah I don't think he goes to usf, he lives aro...        NaN   \n",
       "...    ...                                                ...        ...   \n",
       "5567  spam  This is the 2nd time we have tried 2 contact u...        NaN   \n",
       "5568   ham              Will Ì_ b going to esplanade fr home?        NaN   \n",
       "5569   ham  Pity, * was in mood for that. So...any other s...        NaN   \n",
       "5570   ham  The guy did some bitching but I acted like i'd...        NaN   \n",
       "5571   ham                         Rofl. Its true to its name        NaN   \n",
       "\n",
       "     Unnamed: 3 Unnamed: 4  \n",
       "0           NaN        NaN  \n",
       "1           NaN        NaN  \n",
       "2           NaN        NaN  \n",
       "3           NaN        NaN  \n",
       "4           NaN        NaN  \n",
       "...         ...        ...  \n",
       "5567        NaN        NaN  \n",
       "5568        NaN        NaN  \n",
       "5569        NaN        NaN  \n",
       "5570        NaN        NaN  \n",
       "5571        NaN        NaN  \n",
       "\n",
       "[5572 rows x 5 columns]>"
      ]
     },
     "execution_count": 7,
     "metadata": {},
     "output_type": "execute_result"
    }
   ],
   "source": [
    "# information of data\n",
    "df.info"
   ]
  },
  {
   "cell_type": "code",
   "execution_count": 8,
   "id": "855b1e80",
   "metadata": {},
   "outputs": [
    {
     "data": {
      "text/plain": [
       "v1               0\n",
       "v2               0\n",
       "Unnamed: 2    5522\n",
       "Unnamed: 3    5560\n",
       "Unnamed: 4    5566\n",
       "dtype: int64"
      ]
     },
     "execution_count": 8,
     "metadata": {},
     "output_type": "execute_result"
    }
   ],
   "source": [
    "# checking missing value\n",
    "df.isnull().sum()"
   ]
  },
  {
   "cell_type": "code",
   "execution_count": 9,
   "id": "5625cd0c",
   "metadata": {},
   "outputs": [
    {
     "name": "stdout",
     "output_type": "stream",
     "text": [
      "Total no of int64 dtype columns ,  0\n",
      "Total no of float64 dtype columns ,  0\n",
      "Total no of object dtype columns ,  5\n"
     ]
    }
   ],
   "source": [
    "# checking the total no of datatype columns\n",
    "\n",
    "print(\"Total no of int64 dtype columns , \",df.select_dtypes(include=[\"int64\"]).columns.shape[0])\n",
    "print(\"Total no of float64 dtype columns , \",df.select_dtypes(include=[\"float64\"]).columns.shape[0])\n",
    "print(\"Total no of object dtype columns , \",df.select_dtypes(include=[\"object\"]).columns.shape[0])"
   ]
  },
  {
   "cell_type": "markdown",
   "id": "1906195e",
   "metadata": {},
   "source": [
    "`Insight`\n",
    "\n",
    "- This dataset contains the : **5572 (Rows) and 5 (Columns)**\n",
    "- Three columns **unnamed1** , **unnamed2**, **unnamed3** contains null values.\n",
    "* we need to use **first  (v1)** column for the **Target** purpose, Another column for the **Text** column is the string of text.\n",
    "* Total no of int64 dtype columns ,  **0**\n",
    "* Total no of float64 dtype columns ,  **0**\n",
    "* Total no of object dtype columns ,  **5**"
   ]
  },
  {
   "cell_type": "markdown",
   "id": "936ef546",
   "metadata": {},
   "source": [
    "## 3. Data Cleaning and Data Handling"
   ]
  },
  {
   "cell_type": "markdown",
   "id": "82898de9",
   "metadata": {},
   "source": [
    "### 3.1 Data Checking "
   ]
  },
  {
   "cell_type": "markdown",
   "id": "b9b57df5",
   "metadata": {},
   "source": [
    "3.1.1 Misssing value in each columns"
   ]
  },
  {
   "cell_type": "code",
   "execution_count": 10,
   "id": "e6b3a75a",
   "metadata": {},
   "outputs": [
    {
     "data": {
      "text/plain": [
       "v1               0\n",
       "v2               0\n",
       "Unnamed: 2    5522\n",
       "Unnamed: 3    5560\n",
       "Unnamed: 4    5566\n",
       "dtype: int64"
      ]
     },
     "execution_count": 10,
     "metadata": {},
     "output_type": "execute_result"
    }
   ],
   "source": [
    "df.isnull().sum()"
   ]
  },
  {
   "cell_type": "markdown",
   "id": "02fbbf1b",
   "metadata": {},
   "source": [
    "3.1.2 Missing value percentage in each columns"
   ]
  },
  {
   "cell_type": "code",
   "execution_count": 11,
   "id": "b9b8c320",
   "metadata": {},
   "outputs": [
    {
     "data": {
      "text/plain": [
       "v1             0.000000\n",
       "v2             0.000000\n",
       "Unnamed: 2    99.102656\n",
       "Unnamed: 3    99.784637\n",
       "Unnamed: 4    99.892319\n",
       "dtype: float64"
      ]
     },
     "execution_count": 11,
     "metadata": {},
     "output_type": "execute_result"
    }
   ],
   "source": [
    "(df.isnull().sum()) *100 / len(df)"
   ]
  },
  {
   "cell_type": "markdown",
   "id": "7a25bde0",
   "metadata": {},
   "source": [
    "3.1.3 Duplicate Value Checking"
   ]
  },
  {
   "cell_type": "code",
   "execution_count": 12,
   "id": "963f9298",
   "metadata": {},
   "outputs": [
    {
     "data": {
      "text/plain": [
       "403"
      ]
     },
     "execution_count": 12,
     "metadata": {},
     "output_type": "execute_result"
    }
   ],
   "source": [
    "# check for duplicate values\n",
    "df.duplicated().sum()"
   ]
  },
  {
   "cell_type": "code",
   "execution_count": 13,
   "id": "9016fc9a",
   "metadata": {},
   "outputs": [
    {
     "data": {
      "text/plain": [
       "(5169, 5)"
      ]
     },
     "execution_count": 13,
     "metadata": {},
     "output_type": "execute_result"
    }
   ],
   "source": [
    "#Create a dummy variable for duplicate check\n",
    "df_dup = df\n",
    "\n",
    "#Checking for duplicates and dropping entire duplicate row if any have \n",
    "df_dup.drop_duplicates(subset=None, inplace=True)\n",
    "df_dup.shape"
   ]
  },
  {
   "cell_type": "markdown",
   "id": "e2b84e4d",
   "metadata": {},
   "source": [
    "`insight`\n",
    "\n",
    "- **Duplicates are present**  in dataframe very small quantity **( 403 )** \n",
    "- Original Rows in DataFrame is : **5572 (Rows) and 5 (Columns)**\n",
    "- After Checking duplicate Unique rows is : **5169 (Rows) and 5 (Columns)**    \n",
    "- **Columns name is not in Proper Manner**. For better Understanding we **rename** it."
   ]
  },
  {
   "cell_type": "markdown",
   "id": "bf992452",
   "metadata": {},
   "source": [
    "### 3.2 Data Cleaning  "
   ]
  },
  {
   "cell_type": "raw",
   "id": "ba1e966f",
   "metadata": {},
   "source": [
    "3.2.1 Data Renamig "
   ]
  },
  {
   "cell_type": "code",
   "execution_count": 14,
   "id": "027bfd1f",
   "metadata": {},
   "outputs": [],
   "source": [
    "df.rename(columns = {'v1':'Target', 'v2':'Text'}, inplace = True)"
   ]
  },
  {
   "cell_type": "code",
   "execution_count": 15,
   "id": "730c44c5",
   "metadata": {},
   "outputs": [
    {
     "data": {
      "text/html": [
       "<div>\n",
       "<style scoped>\n",
       "    .dataframe tbody tr th:only-of-type {\n",
       "        vertical-align: middle;\n",
       "    }\n",
       "\n",
       "    .dataframe tbody tr th {\n",
       "        vertical-align: top;\n",
       "    }\n",
       "\n",
       "    .dataframe thead th {\n",
       "        text-align: right;\n",
       "    }\n",
       "</style>\n",
       "<table border=\"1\" class=\"dataframe\">\n",
       "  <thead>\n",
       "    <tr style=\"text-align: right;\">\n",
       "      <th></th>\n",
       "      <th>Target</th>\n",
       "      <th>Text</th>\n",
       "      <th>Unnamed: 2</th>\n",
       "      <th>Unnamed: 3</th>\n",
       "      <th>Unnamed: 4</th>\n",
       "    </tr>\n",
       "  </thead>\n",
       "  <tbody>\n",
       "    <tr>\n",
       "      <th>2863</th>\n",
       "      <td>ham</td>\n",
       "      <td>What I'm saying is if you haven't explicitly t...</td>\n",
       "      <td>NaN</td>\n",
       "      <td>NaN</td>\n",
       "      <td>NaN</td>\n",
       "    </tr>\n",
       "    <tr>\n",
       "      <th>3577</th>\n",
       "      <td>ham</td>\n",
       "      <td>They said Ì_ dun haf passport or smth like dat...</td>\n",
       "      <td>NaN</td>\n",
       "      <td>NaN</td>\n",
       "      <td>NaN</td>\n",
       "    </tr>\n",
       "    <tr>\n",
       "      <th>5517</th>\n",
       "      <td>ham</td>\n",
       "      <td>Miles and smiles r made frm same letters but d...</td>\n",
       "      <td>NaN</td>\n",
       "      <td>NaN</td>\n",
       "      <td>NaN</td>\n",
       "    </tr>\n",
       "    <tr>\n",
       "      <th>1836</th>\n",
       "      <td>ham</td>\n",
       "      <td>Are you wet right now?</td>\n",
       "      <td>NaN</td>\n",
       "      <td>NaN</td>\n",
       "      <td>NaN</td>\n",
       "    </tr>\n",
       "    <tr>\n",
       "      <th>1248</th>\n",
       "      <td>ham</td>\n",
       "      <td>HI HUN! IM NOT COMIN 2NITE-TELL EVERY1 IM SORR...</td>\n",
       "      <td>NaN</td>\n",
       "      <td>NaN</td>\n",
       "      <td>NaN</td>\n",
       "    </tr>\n",
       "  </tbody>\n",
       "</table>\n",
       "</div>"
      ],
      "text/plain": [
       "     Target                                               Text Unnamed: 2  \\\n",
       "2863    ham  What I'm saying is if you haven't explicitly t...        NaN   \n",
       "3577    ham  They said Ì_ dun haf passport or smth like dat...        NaN   \n",
       "5517    ham  Miles and smiles r made frm same letters but d...        NaN   \n",
       "1836    ham                             Are you wet right now?        NaN   \n",
       "1248    ham  HI HUN! IM NOT COMIN 2NITE-TELL EVERY1 IM SORR...        NaN   \n",
       "\n",
       "     Unnamed: 3 Unnamed: 4  \n",
       "2863        NaN        NaN  \n",
       "3577        NaN        NaN  \n",
       "5517        NaN        NaN  \n",
       "1836        NaN        NaN  \n",
       "1248        NaN        NaN  "
      ]
     },
     "execution_count": 15,
     "metadata": {},
     "output_type": "execute_result"
    }
   ],
   "source": [
    "df.sample(5)"
   ]
  },
  {
   "cell_type": "raw",
   "id": "80bae4ab",
   "metadata": {},
   "source": [
    "3.2.2 Data Droping "
   ]
  },
  {
   "cell_type": "code",
   "execution_count": 16,
   "id": "b38f0323",
   "metadata": {},
   "outputs": [],
   "source": [
    "df.drop(columns=[\"Unnamed: 2\",\"Unnamed: 3\",\"Unnamed: 4\"], inplace=True)"
   ]
  },
  {
   "cell_type": "code",
   "execution_count": 17,
   "id": "6fa129df",
   "metadata": {},
   "outputs": [
    {
     "data": {
      "text/html": [
       "<div>\n",
       "<style scoped>\n",
       "    .dataframe tbody tr th:only-of-type {\n",
       "        vertical-align: middle;\n",
       "    }\n",
       "\n",
       "    .dataframe tbody tr th {\n",
       "        vertical-align: top;\n",
       "    }\n",
       "\n",
       "    .dataframe thead th {\n",
       "        text-align: right;\n",
       "    }\n",
       "</style>\n",
       "<table border=\"1\" class=\"dataframe\">\n",
       "  <thead>\n",
       "    <tr style=\"text-align: right;\">\n",
       "      <th></th>\n",
       "      <th>Target</th>\n",
       "      <th>Text</th>\n",
       "    </tr>\n",
       "  </thead>\n",
       "  <tbody>\n",
       "    <tr>\n",
       "      <th>5466</th>\n",
       "      <td>spam</td>\n",
       "      <td>http//tms. widelive.com/index. wml?id=820554ad...</td>\n",
       "    </tr>\n",
       "    <tr>\n",
       "      <th>5296</th>\n",
       "      <td>ham</td>\n",
       "      <td>Are u coming to the funeral home</td>\n",
       "    </tr>\n",
       "    <tr>\n",
       "      <th>795</th>\n",
       "      <td>ham</td>\n",
       "      <td>it's really getting me down just hanging around.</td>\n",
       "    </tr>\n",
       "    <tr>\n",
       "      <th>3356</th>\n",
       "      <td>ham</td>\n",
       "      <td>Brainless Baby Doll..:-D;-), vehicle sariyag d...</td>\n",
       "    </tr>\n",
       "    <tr>\n",
       "      <th>5348</th>\n",
       "      <td>ham</td>\n",
       "      <td>Do I? I thought I put it back in the box</td>\n",
       "    </tr>\n",
       "  </tbody>\n",
       "</table>\n",
       "</div>"
      ],
      "text/plain": [
       "     Target                                               Text\n",
       "5466   spam  http//tms. widelive.com/index. wml?id=820554ad...\n",
       "5296    ham                   Are u coming to the funeral home\n",
       "795     ham   it's really getting me down just hanging around.\n",
       "3356    ham  Brainless Baby Doll..:-D;-), vehicle sariyag d...\n",
       "5348    ham           Do I? I thought I put it back in the box"
      ]
     },
     "execution_count": 17,
     "metadata": {},
     "output_type": "execute_result"
    }
   ],
   "source": [
    "df.sample(5)"
   ]
  },
  {
   "cell_type": "raw",
   "id": "303bbc76",
   "metadata": {},
   "source": [
    "3.2.3 Remove Duplicates"
   ]
  },
  {
   "cell_type": "code",
   "execution_count": 18,
   "id": "f0c80909",
   "metadata": {},
   "outputs": [],
   "source": [
    "df = df.drop_duplicates(keep='first')"
   ]
  },
  {
   "cell_type": "code",
   "execution_count": 19,
   "id": "c79e4202",
   "metadata": {},
   "outputs": [
    {
     "data": {
      "text/plain": [
       "0"
      ]
     },
     "execution_count": 19,
     "metadata": {},
     "output_type": "execute_result"
    }
   ],
   "source": [
    "df.duplicated().sum()"
   ]
  },
  {
   "cell_type": "markdown",
   "id": "1c1cd416",
   "metadata": {},
   "source": [
    "`insight`\n",
    "\n",
    "- After removing duplicate rows Shape of Dataframe is **5169 rows × 2 columns**.\n",
    "- Hence Column name in proper manner. \n",
    "- Predictor variable are in **categorical variable**. So we need to map **Spam = 1** and **Ham = 0** using LabelEncoder. \n"
   ]
  },
  {
   "cell_type": "code",
   "execution_count": 20,
   "id": "07532342",
   "metadata": {},
   "outputs": [
    {
     "data": {
      "text/html": [
       "<div>\n",
       "<style scoped>\n",
       "    .dataframe tbody tr th:only-of-type {\n",
       "        vertical-align: middle;\n",
       "    }\n",
       "\n",
       "    .dataframe tbody tr th {\n",
       "        vertical-align: top;\n",
       "    }\n",
       "\n",
       "    .dataframe thead th {\n",
       "        text-align: right;\n",
       "    }\n",
       "</style>\n",
       "<table border=\"1\" class=\"dataframe\">\n",
       "  <thead>\n",
       "    <tr style=\"text-align: right;\">\n",
       "      <th></th>\n",
       "      <th>Target</th>\n",
       "      <th>Text</th>\n",
       "    </tr>\n",
       "  </thead>\n",
       "  <tbody>\n",
       "    <tr>\n",
       "      <th>4328</th>\n",
       "      <td>ham</td>\n",
       "      <td>1Apple/Day=No Doctor. 1Tulsi Leaf/Day=No Cance...</td>\n",
       "    </tr>\n",
       "    <tr>\n",
       "      <th>5570</th>\n",
       "      <td>ham</td>\n",
       "      <td>The guy did some bitching but I acted like i'd...</td>\n",
       "    </tr>\n",
       "    <tr>\n",
       "      <th>525</th>\n",
       "      <td>ham</td>\n",
       "      <td>Hi i won't b ard 4 christmas. But do enjoy n m...</td>\n",
       "    </tr>\n",
       "    <tr>\n",
       "      <th>900</th>\n",
       "      <td>ham</td>\n",
       "      <td>Probably money worries. Things are coming due ...</td>\n",
       "    </tr>\n",
       "    <tr>\n",
       "      <th>455</th>\n",
       "      <td>ham</td>\n",
       "      <td>Si si. I think ill go make those oreo truffles.</td>\n",
       "    </tr>\n",
       "  </tbody>\n",
       "</table>\n",
       "</div>"
      ],
      "text/plain": [
       "     Target                                               Text\n",
       "4328    ham  1Apple/Day=No Doctor. 1Tulsi Leaf/Day=No Cance...\n",
       "5570    ham  The guy did some bitching but I acted like i'd...\n",
       "525     ham  Hi i won't b ard 4 christmas. But do enjoy n m...\n",
       "900     ham  Probably money worries. Things are coming due ...\n",
       "455     ham    Si si. I think ill go make those oreo truffles."
      ]
     },
     "execution_count": 20,
     "metadata": {},
     "output_type": "execute_result"
    }
   ],
   "source": [
    "df.sample(5)"
   ]
  },
  {
   "cell_type": "markdown",
   "id": "f97c98ed",
   "metadata": {},
   "source": [
    "## 4. Performing EDA"
   ]
  },
  {
   "cell_type": "markdown",
   "id": "b395a36c",
   "metadata": {},
   "source": [
    "- Now we need to convert Categorical values to Numerical columns. Hence we use Label Encoder \n",
    "- Spam = 1, Ham = 0\n",
    "- Visualizing the Targer Column"
   ]
  },
  {
   "cell_type": "markdown",
   "id": "0dfda2a2",
   "metadata": {},
   "source": [
    "#### 4.1 Label Encoding ( Converting categorical column to Numerical columns )"
   ]
  },
  {
   "cell_type": "code",
   "execution_count": 21,
   "id": "2d273a74",
   "metadata": {},
   "outputs": [
    {
     "data": {
      "text/plain": [
       "0    0\n",
       "1    0\n",
       "2    1\n",
       "3    0\n",
       "4    0\n",
       "Name: Target, dtype: int32"
      ]
     },
     "execution_count": 21,
     "metadata": {},
     "output_type": "execute_result"
    }
   ],
   "source": [
    "from sklearn.preprocessing import LabelEncoder\n",
    "\n",
    "encoder = LabelEncoder()\n",
    "df.Target = encoder.fit_transform(df[\"Target\"])\n",
    "\n",
    "df.Target.head(5)"
   ]
  },
  {
   "cell_type": "markdown",
   "id": "5a3f45cf",
   "metadata": {},
   "source": [
    "#### 4.2 Data Imbalanced Check"
   ]
  },
  {
   "cell_type": "code",
   "execution_count": 22,
   "id": "0b84320a",
   "metadata": {},
   "outputs": [
    {
     "data": {
      "text/plain": [
       "0    4516\n",
       "1     653\n",
       "Name: Target, dtype: int64"
      ]
     },
     "execution_count": 22,
     "metadata": {},
     "output_type": "execute_result"
    }
   ],
   "source": [
    "# unique value in target column\n",
    "df[\"Target\"].value_counts()"
   ]
  },
  {
   "cell_type": "code",
   "execution_count": 23,
   "id": "e9f7a070",
   "metadata": {},
   "outputs": [
    {
     "data": {
      "image/png": "[encoded data removed]",
      "text/plain": [
       "<Figure size 360x648 with 1 Axes>"
      ]
     },
     "metadata": {},
     "output_type": "display_data"
    }
   ],
   "source": [
    "# Visualization of target variable using Pie Plot\n",
    "\n",
    "plt.figure(\"figsize\", (5,9))\n",
    "plt.title(\"Percentages (%) of Spam vs Ham\", color=\"k\", loc=\"left\", )\n",
    "plt.pie(df.Target.value_counts(), labels=[\"Ham\",\"Spam\"], colors=[ \"#90ee90\",\"red\"], autopct=\"%0.2f\", explode=(0, 0.1), shadow=True)\n",
    "plt.show()"
   ]
  },
  {
   "cell_type": "markdown",
   "id": "fae9e022",
   "metadata": {},
   "source": [
    "`insight`\n",
    "\n",
    "- In Pie plot, Clearly shows that the **data is imbalanced.**\n",
    "- Percentages of **Ham messages is more than Spam messages**."
   ]
  },
  {
   "cell_type": "markdown",
   "id": "775dd2b0",
   "metadata": {},
   "source": [
    "#### 4.3  Feature Engineering"
   ]
  },
  {
   "cell_type": "markdown",
   "id": "f0cb0ecd",
   "metadata": {},
   "source": [
    "- Need of Selection of **words**, **senetences**, **charactres** for Better Understanding of Text Analysis.\n",
    "- Making new feature of groups of **words**, **senetences**, **charactres**."
   ]
  },
  {
   "cell_type": "code",
   "execution_count": 24,
   "id": "4eb2ba40",
   "metadata": {},
   "outputs": [
    {
     "name": "stdout",
     "output_type": "stream",
     "text": [
      "Requirement already satisfied: nltk in c:\\users\\shiv-g\\anaconda3\\lib\\site-packages (3.6.5)\n",
      "Requirement already satisfied: click in c:\\users\\shiv-g\\anaconda3\\lib\\site-packages (from nltk) (8.0.3)\n",
      "Requirement already satisfied: joblib in c:\\users\\shiv-g\\anaconda3\\lib\\site-packages (from nltk) (1.1.0)\n",
      "Requirement already satisfied: regex>=2021.8.3 in c:\\users\\shiv-g\\anaconda3\\lib\\site-packages (from nltk) (2021.8.3)\n",
      "Requirement already satisfied: tqdm in c:\\users\\shiv-g\\anaconda3\\lib\\site-packages (from nltk) (4.62.3)\n",
      "Requirement already satisfied: colorama in c:\\users\\shiv-g\\anaconda3\\lib\\site-packages (from click->nltk) (0.4.4)\n"
     ]
    }
   ],
   "source": [
    "import nltk\n",
    "!pip install nltk"
   ]
  },
  {
   "cell_type": "code",
   "execution_count": 25,
   "id": "be088ae2",
   "metadata": {},
   "outputs": [
    {
     "name": "stderr",
     "output_type": "stream",
     "text": [
      "[nltk_data] Error loading punkt: <urlopen error [Errno 11001]\n",
      "[nltk_data]     getaddrinfo failed>\n"
     ]
    },
    {
     "data": {
      "text/plain": [
       "False"
      ]
     },
     "execution_count": 25,
     "metadata": {},
     "output_type": "execute_result"
    }
   ],
   "source": [
    "# this is required for the tokenize funtion\n",
    "nltk.download(\"punkt\")"
   ]
  },
  {
   "cell_type": "code",
   "execution_count": 26,
   "id": "0a87a9f4",
   "metadata": {},
   "outputs": [],
   "source": [
    "# creating features of words, sentences, characters\n",
    "\n",
    "# Number of characters\n",
    "df[\"num_characters\"] = df[\"Text\"].apply(len)\n",
    "\n",
    "# num of words\n",
    "df['num_words'] = df['Text'].apply(lambda x:len(nltk.word_tokenize(x)))\n",
    "\n",
    "# num of sentences\n",
    "df['num_sentences'] = df['Text'].apply(lambda x:len(nltk.sent_tokenize(x)))"
   ]
  },
  {
   "cell_type": "code",
   "execution_count": 27,
   "id": "34662085",
   "metadata": {},
   "outputs": [
    {
     "data": {
      "text/html": [
       "<div>\n",
       "<style scoped>\n",
       "    .dataframe tbody tr th:only-of-type {\n",
       "        vertical-align: middle;\n",
       "    }\n",
       "\n",
       "    .dataframe tbody tr th {\n",
       "        vertical-align: top;\n",
       "    }\n",
       "\n",
       "    .dataframe thead th {\n",
       "        text-align: right;\n",
       "    }\n",
       "</style>\n",
       "<table border=\"1\" class=\"dataframe\">\n",
       "  <thead>\n",
       "    <tr style=\"text-align: right;\">\n",
       "      <th></th>\n",
       "      <th>Target</th>\n",
       "      <th>Text</th>\n",
       "      <th>num_characters</th>\n",
       "      <th>num_words</th>\n",
       "      <th>num_sentences</th>\n",
       "    </tr>\n",
       "  </thead>\n",
       "  <tbody>\n",
       "    <tr>\n",
       "      <th>0</th>\n",
       "      <td>0</td>\n",
       "      <td>Go until jurong point, crazy.. Available only ...</td>\n",
       "      <td>111</td>\n",
       "      <td>24</td>\n",
       "      <td>2</td>\n",
       "    </tr>\n",
       "    <tr>\n",
       "      <th>1</th>\n",
       "      <td>0</td>\n",
       "      <td>Ok lar... Joking wif u oni...</td>\n",
       "      <td>29</td>\n",
       "      <td>8</td>\n",
       "      <td>2</td>\n",
       "    </tr>\n",
       "    <tr>\n",
       "      <th>2</th>\n",
       "      <td>1</td>\n",
       "      <td>Free entry in 2 a wkly comp to win FA Cup fina...</td>\n",
       "      <td>155</td>\n",
       "      <td>37</td>\n",
       "      <td>2</td>\n",
       "    </tr>\n",
       "    <tr>\n",
       "      <th>3</th>\n",
       "      <td>0</td>\n",
       "      <td>U dun say so early hor... U c already then say...</td>\n",
       "      <td>49</td>\n",
       "      <td>13</td>\n",
       "      <td>1</td>\n",
       "    </tr>\n",
       "  </tbody>\n",
       "</table>\n",
       "</div>"
      ],
      "text/plain": [
       "   Target                                               Text  num_characters  \\\n",
       "0       0  Go until jurong point, crazy.. Available only ...             111   \n",
       "1       0                      Ok lar... Joking wif u oni...              29   \n",
       "2       1  Free entry in 2 a wkly comp to win FA Cup fina...             155   \n",
       "3       0  U dun say so early hor... U c already then say...              49   \n",
       "\n",
       "   num_words  num_sentences  \n",
       "0         24              2  \n",
       "1          8              2  \n",
       "2         37              2  \n",
       "3         13              1  "
      ]
     },
     "execution_count": 27,
     "metadata": {},
     "output_type": "execute_result"
    }
   ],
   "source": [
    "df.head(4)"
   ]
  },
  {
   "cell_type": "code",
   "execution_count": 28,
   "id": "c961b34a",
   "metadata": {},
   "outputs": [
    {
     "data": {
      "text/html": [
       "<div>\n",
       "<style scoped>\n",
       "    .dataframe tbody tr th:only-of-type {\n",
       "        vertical-align: middle;\n",
       "    }\n",
       "\n",
       "    .dataframe tbody tr th {\n",
       "        vertical-align: top;\n",
       "    }\n",
       "\n",
       "    .dataframe thead th {\n",
       "        text-align: right;\n",
       "    }\n",
       "</style>\n",
       "<table border=\"1\" class=\"dataframe\">\n",
       "  <thead>\n",
       "    <tr style=\"text-align: right;\">\n",
       "      <th></th>\n",
       "      <th>Target</th>\n",
       "      <th>num_characters</th>\n",
       "      <th>num_words</th>\n",
       "      <th>num_sentences</th>\n",
       "    </tr>\n",
       "  </thead>\n",
       "  <tbody>\n",
       "    <tr>\n",
       "      <th>count</th>\n",
       "      <td>5169.000000</td>\n",
       "      <td>5169.000000</td>\n",
       "      <td>5169.000000</td>\n",
       "      <td>5169.000000</td>\n",
       "    </tr>\n",
       "    <tr>\n",
       "      <th>mean</th>\n",
       "      <td>0.126330</td>\n",
       "      <td>78.977945</td>\n",
       "      <td>18.455407</td>\n",
       "      <td>1.961308</td>\n",
       "    </tr>\n",
       "    <tr>\n",
       "      <th>std</th>\n",
       "      <td>0.332253</td>\n",
       "      <td>58.236293</td>\n",
       "      <td>13.322448</td>\n",
       "      <td>1.432583</td>\n",
       "    </tr>\n",
       "    <tr>\n",
       "      <th>min</th>\n",
       "      <td>0.000000</td>\n",
       "      <td>2.000000</td>\n",
       "      <td>1.000000</td>\n",
       "      <td>1.000000</td>\n",
       "    </tr>\n",
       "    <tr>\n",
       "      <th>25%</th>\n",
       "      <td>0.000000</td>\n",
       "      <td>36.000000</td>\n",
       "      <td>9.000000</td>\n",
       "      <td>1.000000</td>\n",
       "    </tr>\n",
       "    <tr>\n",
       "      <th>50%</th>\n",
       "      <td>0.000000</td>\n",
       "      <td>60.000000</td>\n",
       "      <td>15.000000</td>\n",
       "      <td>1.000000</td>\n",
       "    </tr>\n",
       "    <tr>\n",
       "      <th>75%</th>\n",
       "      <td>0.000000</td>\n",
       "      <td>117.000000</td>\n",
       "      <td>26.000000</td>\n",
       "      <td>2.000000</td>\n",
       "    </tr>\n",
       "    <tr>\n",
       "      <th>max</th>\n",
       "      <td>1.000000</td>\n",
       "      <td>910.000000</td>\n",
       "      <td>220.000000</td>\n",
       "      <td>38.000000</td>\n",
       "    </tr>\n",
       "  </tbody>\n",
       "</table>\n",
       "</div>"
      ],
      "text/plain": [
       "            Target  num_characters    num_words  num_sentences\n",
       "count  5169.000000     5169.000000  5169.000000    5169.000000\n",
       "mean      0.126330       78.977945    18.455407       1.961308\n",
       "std       0.332253       58.236293    13.322448       1.432583\n",
       "min       0.000000        2.000000     1.000000       1.000000\n",
       "25%       0.000000       36.000000     9.000000       1.000000\n",
       "50%       0.000000       60.000000    15.000000       1.000000\n",
       "75%       0.000000      117.000000    26.000000       2.000000\n",
       "max       1.000000      910.000000   220.000000      38.000000"
      ]
     },
     "execution_count": 28,
     "metadata": {},
     "output_type": "execute_result"
    }
   ],
   "source": [
    "# describe the dataframe numrical columns\n",
    "df.describe()"
   ]
  },
  {
   "cell_type": "code",
   "execution_count": 29,
   "id": "bd075a6e",
   "metadata": {},
   "outputs": [],
   "source": [
    "# Seperate Analysis of Spam and Ham differently"
   ]
  },
  {
   "cell_type": "code",
   "execution_count": 30,
   "id": "fa51e332",
   "metadata": {},
   "outputs": [
    {
     "data": {
      "text/html": [
       "<div>\n",
       "<style scoped>\n",
       "    .dataframe tbody tr th:only-of-type {\n",
       "        vertical-align: middle;\n",
       "    }\n",
       "\n",
       "    .dataframe tbody tr th {\n",
       "        vertical-align: top;\n",
       "    }\n",
       "\n",
       "    .dataframe thead th {\n",
       "        text-align: right;\n",
       "    }\n",
       "</style>\n",
       "<table border=\"1\" class=\"dataframe\">\n",
       "  <thead>\n",
       "    <tr style=\"text-align: right;\">\n",
       "      <th></th>\n",
       "      <th>num_characters</th>\n",
       "      <th>num_words</th>\n",
       "      <th>num_sentences</th>\n",
       "    </tr>\n",
       "  </thead>\n",
       "  <tbody>\n",
       "    <tr>\n",
       "      <th>count</th>\n",
       "      <td>4516.000000</td>\n",
       "      <td>4516.000000</td>\n",
       "      <td>4516.000000</td>\n",
       "    </tr>\n",
       "    <tr>\n",
       "      <th>mean</th>\n",
       "      <td>70.459256</td>\n",
       "      <td>17.123339</td>\n",
       "      <td>1.815545</td>\n",
       "    </tr>\n",
       "    <tr>\n",
       "      <th>std</th>\n",
       "      <td>56.358207</td>\n",
       "      <td>13.491315</td>\n",
       "      <td>1.364098</td>\n",
       "    </tr>\n",
       "    <tr>\n",
       "      <th>min</th>\n",
       "      <td>2.000000</td>\n",
       "      <td>1.000000</td>\n",
       "      <td>1.000000</td>\n",
       "    </tr>\n",
       "    <tr>\n",
       "      <th>25%</th>\n",
       "      <td>34.000000</td>\n",
       "      <td>8.000000</td>\n",
       "      <td>1.000000</td>\n",
       "    </tr>\n",
       "    <tr>\n",
       "      <th>50%</th>\n",
       "      <td>52.000000</td>\n",
       "      <td>13.000000</td>\n",
       "      <td>1.000000</td>\n",
       "    </tr>\n",
       "    <tr>\n",
       "      <th>75%</th>\n",
       "      <td>90.000000</td>\n",
       "      <td>22.000000</td>\n",
       "      <td>2.000000</td>\n",
       "    </tr>\n",
       "    <tr>\n",
       "      <th>max</th>\n",
       "      <td>910.000000</td>\n",
       "      <td>220.000000</td>\n",
       "      <td>38.000000</td>\n",
       "    </tr>\n",
       "  </tbody>\n",
       "</table>\n",
       "</div>"
      ],
      "text/plain": [
       "       num_characters    num_words  num_sentences\n",
       "count     4516.000000  4516.000000    4516.000000\n",
       "mean        70.459256    17.123339       1.815545\n",
       "std         56.358207    13.491315       1.364098\n",
       "min          2.000000     1.000000       1.000000\n",
       "25%         34.000000     8.000000       1.000000\n",
       "50%         52.000000    13.000000       1.000000\n",
       "75%         90.000000    22.000000       2.000000\n",
       "max        910.000000   220.000000      38.000000"
      ]
     },
     "execution_count": 30,
     "metadata": {},
     "output_type": "execute_result"
    }
   ],
   "source": [
    "# Describe of Spam and Ham\n",
    "\n",
    "# Ham\n",
    "ham_desc = df[df[\"Target\"] == 0] [[\"num_characters\",\"num_words\",\"num_sentences\"]]\n",
    "ham_desc.describe()"
   ]
  },
  {
   "cell_type": "code",
   "execution_count": 31,
   "id": "1223dd43",
   "metadata": {},
   "outputs": [
    {
     "name": "stdout",
     "output_type": "stream",
     "text": [
      "       num_characters   num_words  num_sentences\n",
      "count      653.000000  653.000000     653.000000\n",
      "mean       137.891271   27.667688       2.969372\n",
      "std         30.137753    7.008418       1.488910\n",
      "min         13.000000    2.000000       1.000000\n",
      "25%        132.000000   25.000000       2.000000\n",
      "50%        149.000000   29.000000       3.000000\n",
      "75%        157.000000   32.000000       4.000000\n",
      "max        224.000000   46.000000       9.000000\n"
     ]
    }
   ],
   "source": [
    "# Spam\n",
    "spam_desc = df[df[\"Target\"] == 1] [[ \"num_characters\",\"num_words\",\"num_sentences\" ]]\n",
    "\n",
    "print(spam_desc.describe())"
   ]
  },
  {
   "cell_type": "markdown",
   "id": "71621668",
   "metadata": {},
   "source": [
    "##### Distribution of spam and ham characters and words\n",
    "\n",
    "- How num_characters related to the target variable ? \n",
    "- How num_words related to the target variable ?\n",
    "- How num_sentences related to the target variable ?"
   ]
  },
  {
   "cell_type": "code",
   "execution_count": 32,
   "id": "40334487",
   "metadata": {},
   "outputs": [
    {
     "data": {
      "image/png": "[encoded data removed]",
      "text/plain": [
       "<Figure size 1152x576 with 1 Axes>"
      ]
     },
     "metadata": {
      "needs_background": "light"
     },
     "output_type": "display_data"
    }
   ],
   "source": [
    "# visualization of spam and ham character using hist plot\n",
    "\n",
    "# Spam or Ham distribution with respect to the num_characters\n",
    "plt.figure(figsize=(16,8))\n",
    "sns.histplot(df[df[\"Target\"]==0][\"num_characters\"], color=\"#90ee90\")\n",
    "sns.histplot(df[df[\"Target\"]==1][\"num_characters\"], color=\"red\")\n",
    "plt.show()"
   ]
  },
  {
   "cell_type": "code",
   "execution_count": 33,
   "id": "1c9cea81",
   "metadata": {},
   "outputs": [
    {
     "data": {
      "image/png": "[encoded data removed]",
      "text/plain": [
       "<Figure size 1152x576 with 1 Axes>"
      ]
     },
     "metadata": {
      "needs_background": "light"
     },
     "output_type": "display_data"
    }
   ],
   "source": [
    "# Spam or Ham distribution with respect to the num_words\n",
    "plt.figure(figsize=(16,8))\n",
    "sns.histplot(df[df[\"Target\"]==0][\"num_words\"], color=\"#90ee90\")\n",
    "sns.histplot(df[df[\"Target\"]==1][\"num_words\"], color=\"red\")\n",
    "plt.show()"
   ]
  },
  {
   "cell_type": "code",
   "execution_count": 34,
   "id": "7d023bb4",
   "metadata": {},
   "outputs": [
    {
     "data": {
      "image/png": "[encoded data removed]",
      "text/plain": [
       "<Figure size 1152x576 with 1 Axes>"
      ]
     },
     "metadata": {
      "needs_background": "light"
     },
     "output_type": "display_data"
    }
   ],
   "source": [
    "# Spam or Ham distribution with respect to the num_sentecnes\n",
    "plt.figure(figsize=(16,8))\n",
    "sns.histplot(df[df[\"Target\"]==0][\"num_sentences\"], color=\"#90ee90\")\n",
    "sns.histplot(df[df[\"Target\"]==1][\"num_sentences\"], color=\"red\")\n",
    "plt.show()"
   ]
  },
  {
   "cell_type": "markdown",
   "id": "f867fb12",
   "metadata": {},
   "source": [
    "`insight`\n",
    "\n",
    "- Histogram shows that Ham words and character than spam\n",
    "- From the above plot, We can say the Spam messages are sort.  \n",
    "- Plot shows the **outliers are presents** in the features."
   ]
  },
  {
   "cell_type": "markdown",
   "id": "c031878c",
   "metadata": {},
   "source": [
    "#### 4.4 Outlier Detection "
   ]
  },
  {
   "cell_type": "code",
   "execution_count": 35,
   "id": "7e1f76e2",
   "metadata": {},
   "outputs": [
    {
     "data": {
      "image/png": "[encoded data removed]",
      "text/plain": [
       "<Figure size 582.375x540 with 12 Axes>"
      ]
     },
     "metadata": {
      "needs_background": "light"
     },
     "output_type": "display_data"
    }
   ],
   "source": [
    "# pairplot to understand the features\n",
    "\n",
    "sns.pairplot(df, hue=\"Target\",palette=[\"green\", \"red\"])\n",
    "plt.show()"
   ]
  },
  {
   "cell_type": "markdown",
   "id": "1d16328f",
   "metadata": {},
   "source": [
    "`insight`\n",
    "\n",
    "- Clear presence of outliers in our data. Also since each of those attributes specify length of a given text, they are likely to be correlated as well.\n",
    "\n",
    "hence we can treat our outliers and drop beyond a certain limit."
   ]
  },
  {
   "cell_type": "code",
   "execution_count": 36,
   "id": "1bad96c5",
   "metadata": {},
   "outputs": [
    {
     "data": {
      "image/png": "[encoded data removed]",
      "text/plain": [
       "<Figure size 720x432 with 2 Axes>"
      ]
     },
     "metadata": {
      "needs_background": "light"
     },
     "output_type": "display_data"
    }
   ],
   "source": [
    "plt.figure(figsize=(10,6))\n",
    "sns.heatmap(df.corr(),annot=True)\n",
    "plt.show()"
   ]
  },
  {
   "cell_type": "markdown",
   "id": "dd8029cf",
   "metadata": {},
   "source": [
    "`ìnsight`\n",
    "\n",
    "- Multicollinearity are present between **num_words and num_characters**. Same for **num_words and num_sentences** \n",
    "\n",
    "- **num_characters with target** is very less correlation.\n",
    "\n",
    "- So we need to consider just one of these three - preferrably num_characters for our model!"
   ]
  },
  {
   "cell_type": "markdown",
   "id": "fdcca943",
   "metadata": {},
   "source": [
    "## 5. Data Preprocessing"
   ]
  },
  {
   "cell_type": "markdown",
   "id": "ab608802",
   "metadata": {},
   "source": [
    "The **data or text cleaning** process NLP is **mandatory before modelling**. As computers dont understand the texts/English language unlike humans. We need to convert them a fomat which can be understood by machines"
   ]
  },
  {
   "cell_type": "markdown",
   "id": "571075d1",
   "metadata": {},
   "source": [
    "Text Preprocessing Steps -\n",
    "\n",
    "- Lowercase conversion\n",
    "- Tokenization\n",
    "- Removing special characters\n",
    "- Removing stop words and punctuation\n",
    "- Stemming"
   ]
  },
  {
   "cell_type": "markdown",
   "id": "d6e4319f",
   "metadata": {},
   "source": [
    "`Stopwords` are frequently occurring words ( such as few, is , an the, etc). These words hold meaning in sentence structure, but do not contribute much to language processing. For the purpose of removing redundancy in our processing, I am removing those. So we need to use NLTK library.\n",
    "\n",
    "`Tokenization` is breaking the raw text into small chunks. It breaks the raw text into words, sentences called tokens."
   ]
  },
  {
   "cell_type": "markdown",
   "id": "f85c720f",
   "metadata": {},
   "source": [
    "### Stemming is computationally much faster than Lemmatization, however performance and understanding is better for Lemmatization. We choose Stemming here and will see how the models perform."
   ]
  },
  {
   "cell_type": "code",
   "execution_count": 37,
   "id": "a9815f66",
   "metadata": {},
   "outputs": [],
   "source": [
    "import nltk\n",
    "from nltk.corpus import stopwords\n",
    "import string\n",
    "from nltk.stem.porter import PorterStemmer"
   ]
  },
  {
   "cell_type": "code",
   "execution_count": 38,
   "id": "315f4451",
   "metadata": {},
   "outputs": [
    {
     "name": "stderr",
     "output_type": "stream",
     "text": [
      "[nltk_data] Error loading stopwords: <urlopen error [Errno 11001]\n",
      "[nltk_data]     getaddrinfo failed>\n"
     ]
    },
    {
     "data": {
      "text/plain": [
       "False"
      ]
     },
     "execution_count": 38,
     "metadata": {},
     "output_type": "execute_result"
    }
   ],
   "source": [
    "import nltk\n",
    "nltk.download(\"stopwords\")"
   ]
  },
  {
   "cell_type": "code",
   "execution_count": 39,
   "id": "3d303ae5",
   "metadata": {},
   "outputs": [],
   "source": [
    "ps = PorterStemmer()\n",
    "\n",
    "# Creating a funciton name transfrom_text\n",
    "def transform_text(text):\n",
    "    text = text.lower()\n",
    "    text = nltk.word_tokenize(text)\n",
    "    \n",
    "    #retaining onl\tx numbers and alphabets\n",
    "    x = []\n",
    "    for i in text:\n",
    "        if i.isalnum():\n",
    "            x.append(i)\n",
    "    \n",
    "    #clone cop\tx of list \tx\n",
    "    text = x[:]\n",
    "    x.clear()\n",
    "    \n",
    "    #stopwords removal\n",
    "    for i in text:\n",
    "        if i not in stopwords.words('english') and i not in string.punctuation:\n",
    "            x.append(i)  \n",
    "            \n",
    "    text = x[:]\n",
    "    x.clear()\n",
    "    \n",
    "    for i in text:\n",
    "        x.append(ps.stem(i))\n",
    "        \n",
    "    return \" \".join(x)"
   ]
  },
  {
   "cell_type": "code",
   "execution_count": 40,
   "id": "fafbab7c",
   "metadata": {
    "scrolled": true
   },
   "outputs": [],
   "source": [
    "# # testing code - 1\n",
    "# transform_text(\"HI, how are you,and What is  %% ** your age // ?\")\n",
    "\n",
    "# # testing code - 2\n",
    "# transform_text(\"Your car is very amazing, Can I buy it?, is Your car price 7000 $? \")\n",
    "\n",
    "# # test code \n",
    "# ps = PorterStemmer()\n",
    "# print(ps.stem(\"negligible\"))\n",
    "\n",
    "# print(ps.stem(\"starting\"))\n",
    "# print(ps.stem(\"started\"))\n",
    "# print(ps.stem(\"starting\"))\n"
   ]
  },
  {
   "cell_type": "code",
   "execution_count": 41,
   "id": "05d727f5",
   "metadata": {},
   "outputs": [],
   "source": [
    "df[\"transformed_text\"] = df[\"Text\"].apply(transform_text)"
   ]
  },
  {
   "cell_type": "code",
   "execution_count": 42,
   "id": "c2d6362f",
   "metadata": {},
   "outputs": [
    {
     "data": {
      "text/html": [
       "<div>\n",
       "<style scoped>\n",
       "    .dataframe tbody tr th:only-of-type {\n",
       "        vertical-align: middle;\n",
       "    }\n",
       "\n",
       "    .dataframe tbody tr th {\n",
       "        vertical-align: top;\n",
       "    }\n",
       "\n",
       "    .dataframe thead th {\n",
       "        text-align: right;\n",
       "    }\n",
       "</style>\n",
       "<table border=\"1\" class=\"dataframe\">\n",
       "  <thead>\n",
       "    <tr style=\"text-align: right;\">\n",
       "      <th></th>\n",
       "      <th>Target</th>\n",
       "      <th>Text</th>\n",
       "      <th>num_characters</th>\n",
       "      <th>num_words</th>\n",
       "      <th>num_sentences</th>\n",
       "      <th>transformed_text</th>\n",
       "    </tr>\n",
       "  </thead>\n",
       "  <tbody>\n",
       "    <tr>\n",
       "      <th>669</th>\n",
       "      <td>0</td>\n",
       "      <td>Did u receive my msg?</td>\n",
       "      <td>21</td>\n",
       "      <td>6</td>\n",
       "      <td>1</td>\n",
       "      <td>u receiv msg</td>\n",
       "    </tr>\n",
       "    <tr>\n",
       "      <th>4944</th>\n",
       "      <td>0</td>\n",
       "      <td>Anyway I don't think I can secure anything up ...</td>\n",
       "      <td>107</td>\n",
       "      <td>25</td>\n",
       "      <td>1</td>\n",
       "      <td>anyway think secur anyth lem know want drive s...</td>\n",
       "    </tr>\n",
       "    <tr>\n",
       "      <th>5096</th>\n",
       "      <td>0</td>\n",
       "      <td>But i'm really really broke oh. No amount is t...</td>\n",
       "      <td>71</td>\n",
       "      <td>21</td>\n",
       "      <td>2</td>\n",
       "      <td>realli realli broke oh amount small even lt gt</td>\n",
       "    </tr>\n",
       "    <tr>\n",
       "      <th>4623</th>\n",
       "      <td>0</td>\n",
       "      <td>Jus finish blowing my hair. U finish dinner al...</td>\n",
       "      <td>52</td>\n",
       "      <td>11</td>\n",
       "      <td>2</td>\n",
       "      <td>ju finish blow hair u finish dinner alreadi</td>\n",
       "    </tr>\n",
       "    <tr>\n",
       "      <th>5098</th>\n",
       "      <td>1</td>\n",
       "      <td>TheMob&gt;Hit the link to get a premium Pink Pant...</td>\n",
       "      <td>149</td>\n",
       "      <td>33</td>\n",
       "      <td>2</td>\n",
       "      <td>themob hit link get premium pink panther game ...</td>\n",
       "    </tr>\n",
       "  </tbody>\n",
       "</table>\n",
       "</div>"
      ],
      "text/plain": [
       "      Target                                               Text  \\\n",
       "669        0                              Did u receive my msg?   \n",
       "4944       0  Anyway I don't think I can secure anything up ...   \n",
       "5096       0  But i'm really really broke oh. No amount is t...   \n",
       "4623       0  Jus finish blowing my hair. U finish dinner al...   \n",
       "5098       1  TheMob>Hit the link to get a premium Pink Pant...   \n",
       "\n",
       "      num_characters  num_words  num_sentences  \\\n",
       "669               21          6              1   \n",
       "4944             107         25              1   \n",
       "5096              71         21              2   \n",
       "4623              52         11              2   \n",
       "5098             149         33              2   \n",
       "\n",
       "                                       transformed_text  \n",
       "669                                        u receiv msg  \n",
       "4944  anyway think secur anyth lem know want drive s...  \n",
       "5096     realli realli broke oh amount small even lt gt  \n",
       "4623        ju finish blow hair u finish dinner alreadi  \n",
       "5098  themob hit link get premium pink panther game ...  "
      ]
     },
     "execution_count": 42,
     "metadata": {},
     "output_type": "execute_result"
    }
   ],
   "source": [
    "df.sample(5)"
   ]
  },
  {
   "cell_type": "markdown",
   "id": "e61f1b3f",
   "metadata": {},
   "source": [
    "### 5.1 Creating wordcloud of Words"
   ]
  },
  {
   "cell_type": "code",
   "execution_count": 43,
   "id": "15e1c5ad",
   "metadata": {
    "scrolled": true
   },
   "outputs": [],
   "source": [
    "# wordcolud for spam\n",
    "from wordcloud import WordCloud\n",
    "wc = WordCloud(width=500,height=500,min_font_size=10,background_color='white')"
   ]
  },
  {
   "cell_type": "code",
   "execution_count": 44,
   "id": "77ab848c",
   "metadata": {},
   "outputs": [],
   "source": [
    "spam_wc = wc.generate(df[df[\"Target\"]==1] ['transformed_text'].str.cat(sep=\" \"))"
   ]
  },
  {
   "cell_type": "code",
   "execution_count": 45,
   "id": "a723be9f",
   "metadata": {},
   "outputs": [
    {
     "data": {
      "text/plain": [
       "<matplotlib.image.AxesImage at 0x23ca61b3f10>"
      ]
     },
     "execution_count": 45,
     "metadata": {},
     "output_type": "execute_result"
    },
    {
     "data": {
      "image/png": "[encoded data removed]",
      "text/plain": [
       "<Figure size 1152x648 with 1 Axes>"
      ]
     },
     "metadata": {
      "needs_background": "light"
     },
     "output_type": "display_data"
    }
   ],
   "source": [
    "plt.figure(\"figure\" , (16,9))\n",
    "plt.imshow(spam_wc)"
   ]
  },
  {
   "cell_type": "markdown",
   "id": "1620b1ff",
   "metadata": {},
   "source": [
    "`insight`\n",
    "\n",
    "- most of the spam words are \"free\", \"call\",\"text\" and etc\n",
    "- Most occuring spam words are shown in the wordcloud image"
   ]
  },
  {
   "cell_type": "code",
   "execution_count": 46,
   "id": "4f14d0b0",
   "metadata": {},
   "outputs": [],
   "source": [
    "# wordcolud for ham\n",
    "ham_wc = wc.generate(df[df[\"Target\"]==0] ['transformed_text'].str.cat(sep=\" \"))"
   ]
  },
  {
   "cell_type": "code",
   "execution_count": 47,
   "id": "91a6305f",
   "metadata": {},
   "outputs": [
    {
     "data": {
      "text/plain": [
       "<matplotlib.image.AxesImage at 0x23ca4624fd0>"
      ]
     },
     "execution_count": 47,
     "metadata": {},
     "output_type": "execute_result"
    },
    {
     "data": {
      "image/png": "[encoded data removed]",
      "text/plain": [
       "<Figure size 1152x648 with 1 Axes>"
      ]
     },
     "metadata": {
      "needs_background": "light"
     },
     "output_type": "display_data"
    }
   ],
   "source": [
    "plt.figure(\"figure\" , (16,9))\n",
    "plt.imshow(ham_wc)"
   ]
  },
  {
   "cell_type": "markdown",
   "id": "7fa56e02",
   "metadata": {},
   "source": [
    "`insight`\n",
    "\n",
    "- most of the ham words are \"go\", \"come\",\"call\",\"it\" and etc\n",
    "- Most occuring ham words are shown in the wordcloud image"
   ]
  },
  {
   "cell_type": "code",
   "execution_count": 48,
   "id": "2d726678",
   "metadata": {},
   "outputs": [
    {
     "data": {
      "text/html": [
       "<div>\n",
       "<style scoped>\n",
       "    .dataframe tbody tr th:only-of-type {\n",
       "        vertical-align: middle;\n",
       "    }\n",
       "\n",
       "    .dataframe tbody tr th {\n",
       "        vertical-align: top;\n",
       "    }\n",
       "\n",
       "    .dataframe thead th {\n",
       "        text-align: right;\n",
       "    }\n",
       "</style>\n",
       "<table border=\"1\" class=\"dataframe\">\n",
       "  <thead>\n",
       "    <tr style=\"text-align: right;\">\n",
       "      <th></th>\n",
       "      <th>Target</th>\n",
       "      <th>Text</th>\n",
       "      <th>num_characters</th>\n",
       "      <th>num_words</th>\n",
       "      <th>num_sentences</th>\n",
       "      <th>transformed_text</th>\n",
       "    </tr>\n",
       "  </thead>\n",
       "  <tbody>\n",
       "    <tr>\n",
       "      <th>0</th>\n",
       "      <td>0</td>\n",
       "      <td>Go until jurong point, crazy.. Available only ...</td>\n",
       "      <td>111</td>\n",
       "      <td>24</td>\n",
       "      <td>2</td>\n",
       "      <td>go jurong point crazi avail bugi n great world...</td>\n",
       "    </tr>\n",
       "    <tr>\n",
       "      <th>1</th>\n",
       "      <td>0</td>\n",
       "      <td>Ok lar... Joking wif u oni...</td>\n",
       "      <td>29</td>\n",
       "      <td>8</td>\n",
       "      <td>2</td>\n",
       "      <td>ok lar joke wif u oni</td>\n",
       "    </tr>\n",
       "    <tr>\n",
       "      <th>2</th>\n",
       "      <td>1</td>\n",
       "      <td>Free entry in 2 a wkly comp to win FA Cup fina...</td>\n",
       "      <td>155</td>\n",
       "      <td>37</td>\n",
       "      <td>2</td>\n",
       "      <td>free entri 2 wkli comp win fa cup final tkt 21...</td>\n",
       "    </tr>\n",
       "    <tr>\n",
       "      <th>3</th>\n",
       "      <td>0</td>\n",
       "      <td>U dun say so early hor... U c already then say...</td>\n",
       "      <td>49</td>\n",
       "      <td>13</td>\n",
       "      <td>1</td>\n",
       "      <td>u dun say earli hor u c alreadi say</td>\n",
       "    </tr>\n",
       "    <tr>\n",
       "      <th>4</th>\n",
       "      <td>0</td>\n",
       "      <td>Nah I don't think he goes to usf, he lives aro...</td>\n",
       "      <td>61</td>\n",
       "      <td>15</td>\n",
       "      <td>1</td>\n",
       "      <td>nah think goe usf live around though</td>\n",
       "    </tr>\n",
       "  </tbody>\n",
       "</table>\n",
       "</div>"
      ],
      "text/plain": [
       "   Target                                               Text  num_characters  \\\n",
       "0       0  Go until jurong point, crazy.. Available only ...             111   \n",
       "1       0                      Ok lar... Joking wif u oni...              29   \n",
       "2       1  Free entry in 2 a wkly comp to win FA Cup fina...             155   \n",
       "3       0  U dun say so early hor... U c already then say...              49   \n",
       "4       0  Nah I don't think he goes to usf, he lives aro...              61   \n",
       "\n",
       "   num_words  num_sentences                                   transformed_text  \n",
       "0         24              2  go jurong point crazi avail bugi n great world...  \n",
       "1          8              2                              ok lar joke wif u oni  \n",
       "2         37              2  free entri 2 wkli comp win fa cup final tkt 21...  \n",
       "3         13              1                u dun say earli hor u c alreadi say  \n",
       "4         15              1               nah think goe usf live around though  "
      ]
     },
     "execution_count": 48,
     "metadata": {},
     "output_type": "execute_result"
    }
   ],
   "source": [
    "df.head()"
   ]
  },
  {
   "cell_type": "code",
   "execution_count": 49,
   "id": "422abda7",
   "metadata": {},
   "outputs": [
    {
     "data": {
      "text/html": [
       "<div>\n",
       "<style scoped>\n",
       "    .dataframe tbody tr th:only-of-type {\n",
       "        vertical-align: middle;\n",
       "    }\n",
       "\n",
       "    .dataframe tbody tr th {\n",
       "        vertical-align: top;\n",
       "    }\n",
       "\n",
       "    .dataframe thead th {\n",
       "        text-align: right;\n",
       "    }\n",
       "</style>\n",
       "<table border=\"1\" class=\"dataframe\">\n",
       "  <thead>\n",
       "    <tr style=\"text-align: right;\">\n",
       "      <th></th>\n",
       "      <th>Target</th>\n",
       "      <th>Text</th>\n",
       "      <th>num_characters</th>\n",
       "      <th>num_words</th>\n",
       "      <th>num_sentences</th>\n",
       "      <th>transformed_text</th>\n",
       "    </tr>\n",
       "  </thead>\n",
       "  <tbody>\n",
       "    <tr>\n",
       "      <th>2524</th>\n",
       "      <td>1</td>\n",
       "      <td>FREE entry into our å£250 weekly comp just sen...</td>\n",
       "      <td>100</td>\n",
       "      <td>21</td>\n",
       "      <td>2</td>\n",
       "      <td>free entri weekli comp send word win 80086 18 c</td>\n",
       "    </tr>\n",
       "    <tr>\n",
       "      <th>830</th>\n",
       "      <td>1</td>\n",
       "      <td>U have a secret admirer. REVEAL who thinks U R...</td>\n",
       "      <td>147</td>\n",
       "      <td>32</td>\n",
       "      <td>6</td>\n",
       "      <td>u secret admir reveal think u r special call o...</td>\n",
       "    </tr>\n",
       "    <tr>\n",
       "      <th>1572</th>\n",
       "      <td>1</td>\n",
       "      <td>Ur cash-balance is currently 500 pounds - to m...</td>\n",
       "      <td>145</td>\n",
       "      <td>23</td>\n",
       "      <td>2</td>\n",
       "      <td>ur current 500 pound maxim ur send go 86688 cc...</td>\n",
       "    </tr>\n",
       "    <tr>\n",
       "      <th>2118</th>\n",
       "      <td>1</td>\n",
       "      <td>U can WIN å£100 of Music Gift Vouchers every w...</td>\n",
       "      <td>160</td>\n",
       "      <td>27</td>\n",
       "      <td>2</td>\n",
       "      <td>u win music gift voucher everi week start txt ...</td>\n",
       "    </tr>\n",
       "    <tr>\n",
       "      <th>384</th>\n",
       "      <td>1</td>\n",
       "      <td>Double mins and txts 4 6months FREE Bluetooth ...</td>\n",
       "      <td>149</td>\n",
       "      <td>25</td>\n",
       "      <td>3</td>\n",
       "      <td>doubl min txt 4 6month free bluetooth orang av...</td>\n",
       "    </tr>\n",
       "  </tbody>\n",
       "</table>\n",
       "</div>"
      ],
      "text/plain": [
       "      Target                                               Text  \\\n",
       "2524       1  FREE entry into our å£250 weekly comp just sen...   \n",
       "830        1  U have a secret admirer. REVEAL who thinks U R...   \n",
       "1572       1  Ur cash-balance is currently 500 pounds - to m...   \n",
       "2118       1  U can WIN å£100 of Music Gift Vouchers every w...   \n",
       "384        1  Double mins and txts 4 6months FREE Bluetooth ...   \n",
       "\n",
       "      num_characters  num_words  num_sentences  \\\n",
       "2524             100         21              2   \n",
       "830              147         32              6   \n",
       "1572             145         23              2   \n",
       "2118             160         27              2   \n",
       "384              149         25              3   \n",
       "\n",
       "                                       transformed_text  \n",
       "2524    free entri weekli comp send word win 80086 18 c  \n",
       "830   u secret admir reveal think u r special call o...  \n",
       "1572  ur current 500 pound maxim ur send go 86688 cc...  \n",
       "2118  u win music gift voucher everi week start txt ...  \n",
       "384   doubl min txt 4 6month free bluetooth orang av...  "
      ]
     },
     "execution_count": 49,
     "metadata": {},
     "output_type": "execute_result"
    }
   ],
   "source": [
    "df[df[\"Target\"]==1].sample(5)"
   ]
  },
  {
   "cell_type": "markdown",
   "id": "7def686f",
   "metadata": {},
   "source": [
    "## FOR SPAM"
   ]
  },
  {
   "cell_type": "code",
   "execution_count": 50,
   "id": "3d2cf5ad",
   "metadata": {},
   "outputs": [],
   "source": [
    "# creating a empty list for appending the words in lists.\n",
    "\n",
    "spam_corpus = []\n",
    "\n",
    "for msg in df[df[\"Target\"]==1][\"transformed_text\"].tolist():\n",
    "    for word in msg.split():\n",
    "        spam_corpus.append(word)\n",
    "    "
   ]
  },
  {
   "cell_type": "code",
   "execution_count": 51,
   "id": "a115da8a",
   "metadata": {},
   "outputs": [
    {
     "data": {
      "text/plain": [
       "9939"
      ]
     },
     "execution_count": 51,
     "metadata": {},
     "output_type": "execute_result"
    }
   ],
   "source": [
    "len(spam_corpus)\n"
   ]
  },
  {
   "cell_type": "code",
   "execution_count": 52,
   "id": "a14617a3",
   "metadata": {},
   "outputs": [
    {
     "data": {
      "text/html": [
       "<div>\n",
       "<style scoped>\n",
       "    .dataframe tbody tr th:only-of-type {\n",
       "        vertical-align: middle;\n",
       "    }\n",
       "\n",
       "    .dataframe tbody tr th {\n",
       "        vertical-align: top;\n",
       "    }\n",
       "\n",
       "    .dataframe thead th {\n",
       "        text-align: right;\n",
       "    }\n",
       "</style>\n",
       "<table border=\"1\" class=\"dataframe\">\n",
       "  <thead>\n",
       "    <tr style=\"text-align: right;\">\n",
       "      <th></th>\n",
       "      <th>0</th>\n",
       "      <th>1</th>\n",
       "    </tr>\n",
       "  </thead>\n",
       "  <tbody>\n",
       "    <tr>\n",
       "      <th>0</th>\n",
       "      <td>call</td>\n",
       "      <td>320</td>\n",
       "    </tr>\n",
       "    <tr>\n",
       "      <th>1</th>\n",
       "      <td>free</td>\n",
       "      <td>191</td>\n",
       "    </tr>\n",
       "    <tr>\n",
       "      <th>2</th>\n",
       "      <td>2</td>\n",
       "      <td>155</td>\n",
       "    </tr>\n",
       "    <tr>\n",
       "      <th>3</th>\n",
       "      <td>txt</td>\n",
       "      <td>141</td>\n",
       "    </tr>\n",
       "    <tr>\n",
       "      <th>4</th>\n",
       "      <td>text</td>\n",
       "      <td>122</td>\n",
       "    </tr>\n",
       "    <tr>\n",
       "      <th>5</th>\n",
       "      <td>u</td>\n",
       "      <td>119</td>\n",
       "    </tr>\n",
       "    <tr>\n",
       "      <th>6</th>\n",
       "      <td>ur</td>\n",
       "      <td>119</td>\n",
       "    </tr>\n",
       "    <tr>\n",
       "      <th>7</th>\n",
       "      <td>mobil</td>\n",
       "      <td>114</td>\n",
       "    </tr>\n",
       "    <tr>\n",
       "      <th>8</th>\n",
       "      <td>stop</td>\n",
       "      <td>104</td>\n",
       "    </tr>\n",
       "    <tr>\n",
       "      <th>9</th>\n",
       "      <td>repli</td>\n",
       "      <td>103</td>\n",
       "    </tr>\n",
       "    <tr>\n",
       "      <th>10</th>\n",
       "      <td>claim</td>\n",
       "      <td>98</td>\n",
       "    </tr>\n",
       "    <tr>\n",
       "      <th>11</th>\n",
       "      <td>4</td>\n",
       "      <td>97</td>\n",
       "    </tr>\n",
       "    <tr>\n",
       "      <th>12</th>\n",
       "      <td>prize</td>\n",
       "      <td>82</td>\n",
       "    </tr>\n",
       "    <tr>\n",
       "      <th>13</th>\n",
       "      <td>get</td>\n",
       "      <td>74</td>\n",
       "    </tr>\n",
       "    <tr>\n",
       "      <th>14</th>\n",
       "      <td>new</td>\n",
       "      <td>64</td>\n",
       "    </tr>\n",
       "    <tr>\n",
       "      <th>15</th>\n",
       "      <td>servic</td>\n",
       "      <td>64</td>\n",
       "    </tr>\n",
       "    <tr>\n",
       "      <th>16</th>\n",
       "      <td>tone</td>\n",
       "      <td>63</td>\n",
       "    </tr>\n",
       "    <tr>\n",
       "      <th>17</th>\n",
       "      <td>send</td>\n",
       "      <td>60</td>\n",
       "    </tr>\n",
       "    <tr>\n",
       "      <th>18</th>\n",
       "      <td>urgent</td>\n",
       "      <td>57</td>\n",
       "    </tr>\n",
       "    <tr>\n",
       "      <th>19</th>\n",
       "      <td>nokia</td>\n",
       "      <td>57</td>\n",
       "    </tr>\n",
       "    <tr>\n",
       "      <th>20</th>\n",
       "      <td>contact</td>\n",
       "      <td>56</td>\n",
       "    </tr>\n",
       "    <tr>\n",
       "      <th>21</th>\n",
       "      <td>award</td>\n",
       "      <td>55</td>\n",
       "    </tr>\n",
       "    <tr>\n",
       "      <th>22</th>\n",
       "      <td>phone</td>\n",
       "      <td>52</td>\n",
       "    </tr>\n",
       "    <tr>\n",
       "      <th>23</th>\n",
       "      <td>cash</td>\n",
       "      <td>51</td>\n",
       "    </tr>\n",
       "    <tr>\n",
       "      <th>24</th>\n",
       "      <td>pleas</td>\n",
       "      <td>51</td>\n",
       "    </tr>\n",
       "    <tr>\n",
       "      <th>25</th>\n",
       "      <td>week</td>\n",
       "      <td>49</td>\n",
       "    </tr>\n",
       "    <tr>\n",
       "      <th>26</th>\n",
       "      <td>win</td>\n",
       "      <td>48</td>\n",
       "    </tr>\n",
       "    <tr>\n",
       "      <th>27</th>\n",
       "      <td>c</td>\n",
       "      <td>45</td>\n",
       "    </tr>\n",
       "    <tr>\n",
       "      <th>28</th>\n",
       "      <td>collect</td>\n",
       "      <td>45</td>\n",
       "    </tr>\n",
       "    <tr>\n",
       "      <th>29</th>\n",
       "      <td>min</td>\n",
       "      <td>45</td>\n",
       "    </tr>\n",
       "  </tbody>\n",
       "</table>\n",
       "</div>"
      ],
      "text/plain": [
       "          0    1\n",
       "0      call  320\n",
       "1      free  191\n",
       "2         2  155\n",
       "3       txt  141\n",
       "4      text  122\n",
       "5         u  119\n",
       "6        ur  119\n",
       "7     mobil  114\n",
       "8      stop  104\n",
       "9     repli  103\n",
       "10    claim   98\n",
       "11        4   97\n",
       "12    prize   82\n",
       "13      get   74\n",
       "14      new   64\n",
       "15   servic   64\n",
       "16     tone   63\n",
       "17     send   60\n",
       "18   urgent   57\n",
       "19    nokia   57\n",
       "20  contact   56\n",
       "21    award   55\n",
       "22    phone   52\n",
       "23     cash   51\n",
       "24    pleas   51\n",
       "25     week   49\n",
       "26      win   48\n",
       "27        c   45\n",
       "28  collect   45\n",
       "29      min   45"
      ]
     },
     "execution_count": 52,
     "metadata": {},
     "output_type": "execute_result"
    }
   ],
   "source": [
    "# most coomon words put into dataframe\n",
    "from collections import Counter\n",
    "top30 = pd.DataFrame(Counter(spam_corpus).most_common(30))\n",
    "top30"
   ]
  },
  {
   "cell_type": "code",
   "execution_count": 53,
   "id": "fa0d0423",
   "metadata": {},
   "outputs": [
    {
     "data": {
      "image/png": "[encoded data removed]",
      "text/plain": [
       "<Figure size 1440x432 with 1 Axes>"
      ]
     },
     "metadata": {
      "needs_background": "light"
     },
     "output_type": "display_data"
    }
   ],
   "source": [
    "# visualize the words  \n",
    "plt.figure(figsize=(20,6))\n",
    "plt.xticks(rotation=\"vertical\")\n",
    "sns.barplot(pd.DataFrame(Counter(spam_corpus).most_common(30))[0],pd.DataFrame(Counter(spam_corpus).most_common(30))[1])\n",
    "plt.show()"
   ]
  },
  {
   "cell_type": "markdown",
   "id": "f5c7fbea",
   "metadata": {},
   "source": [
    "`insight`\n",
    "\n",
    "- in Spam, **count of spam word is low as compared to ham**\n",
    "- **call** are present in large amount compared to other words.\n",
    "- **approximately 9939** words in spam."
   ]
  },
  {
   "cell_type": "markdown",
   "id": "8566c724",
   "metadata": {},
   "source": [
    "## FOR HAM"
   ]
  },
  {
   "cell_type": "code",
   "execution_count": 54,
   "id": "e8bf3cf3",
   "metadata": {},
   "outputs": [],
   "source": [
    "# creating a empty list for appending the words in lists.\n",
    "\n",
    "ham_corpus = []\n",
    "\n",
    "for msg1 in df[df[\"Target\"]==0][\"transformed_text\"].tolist():\n",
    "    for word1 in msg1.split():\n",
    "        ham_corpus.append(word1)\n",
    "    "
   ]
  },
  {
   "cell_type": "code",
   "execution_count": 55,
   "id": "fd17b756",
   "metadata": {},
   "outputs": [
    {
     "data": {
      "text/plain": [
       "35402"
      ]
     },
     "execution_count": 55,
     "metadata": {},
     "output_type": "execute_result"
    }
   ],
   "source": [
    "len(ham_corpus)\n"
   ]
  },
  {
   "cell_type": "code",
   "execution_count": 56,
   "id": "974d5d36",
   "metadata": {},
   "outputs": [
    {
     "data": {
      "text/html": [
       "<div>\n",
       "<style scoped>\n",
       "    .dataframe tbody tr th:only-of-type {\n",
       "        vertical-align: middle;\n",
       "    }\n",
       "\n",
       "    .dataframe tbody tr th {\n",
       "        vertical-align: top;\n",
       "    }\n",
       "\n",
       "    .dataframe thead th {\n",
       "        text-align: right;\n",
       "    }\n",
       "</style>\n",
       "<table border=\"1\" class=\"dataframe\">\n",
       "  <thead>\n",
       "    <tr style=\"text-align: right;\">\n",
       "      <th></th>\n",
       "      <th>0</th>\n",
       "      <th>1</th>\n",
       "    </tr>\n",
       "  </thead>\n",
       "  <tbody>\n",
       "    <tr>\n",
       "      <th>0</th>\n",
       "      <td>u</td>\n",
       "      <td>883</td>\n",
       "    </tr>\n",
       "    <tr>\n",
       "      <th>1</th>\n",
       "      <td>go</td>\n",
       "      <td>404</td>\n",
       "    </tr>\n",
       "    <tr>\n",
       "      <th>2</th>\n",
       "      <td>get</td>\n",
       "      <td>349</td>\n",
       "    </tr>\n",
       "    <tr>\n",
       "      <th>3</th>\n",
       "      <td>gt</td>\n",
       "      <td>288</td>\n",
       "    </tr>\n",
       "    <tr>\n",
       "      <th>4</th>\n",
       "      <td>lt</td>\n",
       "      <td>287</td>\n",
       "    </tr>\n",
       "    <tr>\n",
       "      <th>5</th>\n",
       "      <td>2</td>\n",
       "      <td>284</td>\n",
       "    </tr>\n",
       "    <tr>\n",
       "      <th>6</th>\n",
       "      <td>come</td>\n",
       "      <td>275</td>\n",
       "    </tr>\n",
       "    <tr>\n",
       "      <th>7</th>\n",
       "      <td>got</td>\n",
       "      <td>236</td>\n",
       "    </tr>\n",
       "    <tr>\n",
       "      <th>8</th>\n",
       "      <td>know</td>\n",
       "      <td>236</td>\n",
       "    </tr>\n",
       "    <tr>\n",
       "      <th>9</th>\n",
       "      <td>like</td>\n",
       "      <td>234</td>\n",
       "    </tr>\n",
       "    <tr>\n",
       "      <th>10</th>\n",
       "      <td>call</td>\n",
       "      <td>233</td>\n",
       "    </tr>\n",
       "    <tr>\n",
       "      <th>11</th>\n",
       "      <td>time</td>\n",
       "      <td>219</td>\n",
       "    </tr>\n",
       "    <tr>\n",
       "      <th>12</th>\n",
       "      <td>love</td>\n",
       "      <td>216</td>\n",
       "    </tr>\n",
       "    <tr>\n",
       "      <th>13</th>\n",
       "      <td>ok</td>\n",
       "      <td>215</td>\n",
       "    </tr>\n",
       "    <tr>\n",
       "      <th>14</th>\n",
       "      <td>good</td>\n",
       "      <td>213</td>\n",
       "    </tr>\n",
       "    <tr>\n",
       "      <th>15</th>\n",
       "      <td>want</td>\n",
       "      <td>208</td>\n",
       "    </tr>\n",
       "    <tr>\n",
       "      <th>16</th>\n",
       "      <td>ur</td>\n",
       "      <td>197</td>\n",
       "    </tr>\n",
       "    <tr>\n",
       "      <th>17</th>\n",
       "      <td>day</td>\n",
       "      <td>190</td>\n",
       "    </tr>\n",
       "    <tr>\n",
       "      <th>18</th>\n",
       "      <td>need</td>\n",
       "      <td>170</td>\n",
       "    </tr>\n",
       "    <tr>\n",
       "      <th>19</th>\n",
       "      <td>one</td>\n",
       "      <td>165</td>\n",
       "    </tr>\n",
       "    <tr>\n",
       "      <th>20</th>\n",
       "      <td>lor</td>\n",
       "      <td>159</td>\n",
       "    </tr>\n",
       "    <tr>\n",
       "      <th>21</th>\n",
       "      <td>4</td>\n",
       "      <td>156</td>\n",
       "    </tr>\n",
       "    <tr>\n",
       "      <th>22</th>\n",
       "      <td>home</td>\n",
       "      <td>152</td>\n",
       "    </tr>\n",
       "    <tr>\n",
       "      <th>23</th>\n",
       "      <td>think</td>\n",
       "      <td>149</td>\n",
       "    </tr>\n",
       "    <tr>\n",
       "      <th>24</th>\n",
       "      <td>see</td>\n",
       "      <td>147</td>\n",
       "    </tr>\n",
       "    <tr>\n",
       "      <th>25</th>\n",
       "      <td>take</td>\n",
       "      <td>143</td>\n",
       "    </tr>\n",
       "    <tr>\n",
       "      <th>26</th>\n",
       "      <td>still</td>\n",
       "      <td>143</td>\n",
       "    </tr>\n",
       "    <tr>\n",
       "      <th>27</th>\n",
       "      <td>da</td>\n",
       "      <td>142</td>\n",
       "    </tr>\n",
       "    <tr>\n",
       "      <th>28</th>\n",
       "      <td>tell</td>\n",
       "      <td>133</td>\n",
       "    </tr>\n",
       "    <tr>\n",
       "      <th>29</th>\n",
       "      <td>make</td>\n",
       "      <td>129</td>\n",
       "    </tr>\n",
       "  </tbody>\n",
       "</table>\n",
       "</div>"
      ],
      "text/plain": [
       "        0    1\n",
       "0       u  883\n",
       "1      go  404\n",
       "2     get  349\n",
       "3      gt  288\n",
       "4      lt  287\n",
       "5       2  284\n",
       "6    come  275\n",
       "7     got  236\n",
       "8    know  236\n",
       "9    like  234\n",
       "10   call  233\n",
       "11   time  219\n",
       "12   love  216\n",
       "13     ok  215\n",
       "14   good  213\n",
       "15   want  208\n",
       "16     ur  197\n",
       "17    day  190\n",
       "18   need  170\n",
       "19    one  165\n",
       "20    lor  159\n",
       "21      4  156\n",
       "22   home  152\n",
       "23  think  149\n",
       "24    see  147\n",
       "25   take  143\n",
       "26  still  143\n",
       "27     da  142\n",
       "28   tell  133\n",
       "29   make  129"
      ]
     },
     "execution_count": 56,
     "metadata": {},
     "output_type": "execute_result"
    }
   ],
   "source": [
    "# most coomon words put into dataframe\n",
    "from collections import Counter\n",
    "top30_ham = pd.DataFrame(Counter(ham_corpus).most_common(30))\n",
    "top30_ham"
   ]
  },
  {
   "cell_type": "code",
   "execution_count": 57,
   "id": "8fe3d0bc",
   "metadata": {},
   "outputs": [
    {
     "data": {
      "image/png": "[encoded data removed]",
      "text/plain": [
       "<Figure size 1440x432 with 1 Axes>"
      ]
     },
     "metadata": {
      "needs_background": "light"
     },
     "output_type": "display_data"
    }
   ],
   "source": [
    "# visualize the words  \n",
    "plt.figure(figsize=(20,6))\n",
    "plt.xticks(rotation=\"vertical\")\n",
    "sns.barplot(pd.DataFrame(Counter(ham_corpus).most_common(30))[0],pd.DataFrame(Counter(ham_corpus).most_common(30))[1])\n",
    "plt.show()"
   ]
  },
  {
   "cell_type": "markdown",
   "id": "cf7670bf",
   "metadata": {},
   "source": [
    "`insight`\n",
    "\n",
    "- in Ham, **most words are present** in the ham as compared to spam.\n",
    "- **u** are present in very large compared to other words.\n",
    "- **approximately 10000** words in ham."
   ]
  },
  {
   "cell_type": "markdown",
   "id": "a095f7e1",
   "metadata": {},
   "source": [
    "# ----------------------------------------------------------------------------------------------------------"
   ]
  },
  {
   "cell_type": "markdown",
   "id": "886f95b0",
   "metadata": {},
   "source": [
    "### 5.2 Vectorization"
   ]
  },
  {
   "cell_type": "markdown",
   "id": "1f705beb",
   "metadata": {},
   "source": [
    "Before Further proceed We need to vectorize the Data ie. conversion of text data to vectors"
   ]
  },
  {
   "cell_type": "code",
   "execution_count": 58,
   "id": "e9d1d96a",
   "metadata": {},
   "outputs": [],
   "source": [
    "from sklearn.feature_extraction.text import CountVectorizer, TfidfVectorizer"
   ]
  },
  {
   "cell_type": "markdown",
   "id": "cbb1034c",
   "metadata": {},
   "source": [
    "#### 5.2.1 Vectorization of data using -  CountVectorizer"
   ]
  },
  {
   "cell_type": "code",
   "execution_count": 59,
   "id": "4f351b39",
   "metadata": {},
   "outputs": [],
   "source": [
    "# from sklearn.feature_extraction.text import CountVectorizer, TfidfVectorizer\n",
    "# cv = CountVectorizer()\n",
    "# X2 = cv.fit_transform(df[\"transformed_text\"]).toarray()\n",
    "# y2 = df[\"Target\"].values\n",
    "\n",
    "\n",
    "# print(\"Value of X2 : \", X2)\n",
    "# print(\"-\"*20)\n",
    "# print(\"Value of y2 : \", y2)\n",
    "# print(\"-\"*30)\n",
    "# print(\"Shape of X2: \", X2.shape)\n",
    " "
   ]
  },
  {
   "cell_type": "markdown",
   "id": "dedc1db6",
   "metadata": {},
   "source": [
    "#### 5.2.2 Vectorization of data using - TfidfVectorizery"
   ]
  },
  {
   "cell_type": "code",
   "execution_count": 60,
   "id": "a425c0a3",
   "metadata": {},
   "outputs": [],
   "source": [
    "\n",
    "# tfidfv = TfidfVectorizer(max_features=3000)\n",
    "# X2 = tfidfv.fit_transform(df[\"transformed_text\"]).toarray()\n",
    "# y2 = df[\"Target\"].values\n",
    "\n",
    "\n",
    "# print(\"Value of X2 : \", X2)\n",
    "# print(\"-\"*20)\n",
    "# print(\"Value of y2 : \", y2)\n",
    "# print(\"-\"*30)\n",
    "# print(\"Shape of X2: \", X2.shape)\n"
   ]
  },
  {
   "cell_type": "markdown",
   "id": "84085bf2",
   "metadata": {},
   "source": [
    "#### Using MinMax scaler"
   ]
  },
  {
   "cell_type": "code",
   "execution_count": 61,
   "id": "e4571219",
   "metadata": {},
   "outputs": [],
   "source": [
    "\n",
    "# tfdifv = TfidfVectorizer(max_features=3000)\n",
    "# X = tfdifv.fit_transform(df[\"transformed_text\"]).toarray()\n",
    "\n",
    "# from sklearn.preprocessing import MinMaxScaler\n",
    "# scaler = MinMaxScaler()\n",
    "# X = scaler.fit_transform(X)\n",
    "# y= df[\"Target\"].values"
   ]
  },
  {
   "cell_type": "code",
   "execution_count": 62,
   "id": "1fa2cfba",
   "metadata": {},
   "outputs": [],
   "source": [
    "# from sklearn.preprocessing import MinMaxScaler\n",
    "\n",
    "# X = tfidfv.fit_transform(df[\"transformed_text\"]).toarray()\n",
    "# scaler = MinMaxScaler()\n",
    "# X = scaler.fit_transform(X)\n",
    "\n",
    "\n",
    "# # It is commented due to ineffective acuuracy and precision"
   ]
  },
  {
   "cell_type": "markdown",
   "id": "67e23692",
   "metadata": {},
   "source": [
    "**Apending num_character col to X**"
   ]
  },
  {
   "cell_type": "code",
   "execution_count": 63,
   "id": "e54d1821",
   "metadata": {},
   "outputs": [],
   "source": [
    "tfdifv = TfidfVectorizer(max_features=3000)\n",
    "X = tfdifv.fit_transform(df[\"transformed_text\"]).toarray()"
   ]
  },
  {
   "cell_type": "code",
   "execution_count": 64,
   "id": "e564800b",
   "metadata": {},
   "outputs": [],
   "source": [
    "X = np.hstack((X, df[\"num_characters\"].values.reshape(-1,1)))\n",
    "y = df.Target.values"
   ]
  },
  {
   "cell_type": "markdown",
   "id": "a3b174ef",
   "metadata": {},
   "source": [
    "# ----------------------------------------------------------------------------------------------------------"
   ]
  },
  {
   "cell_type": "markdown",
   "id": "965d308c",
   "metadata": {},
   "source": [
    "### 5.3 Spliting Datset into training and testing set"
   ]
  },
  {
   "cell_type": "code",
   "execution_count": 66,
   "id": "35892deb",
   "metadata": {},
   "outputs": [
    {
     "name": "stdout",
     "output_type": "stream",
     "text": [
      "Shape of X :  (5169, 3001)\n",
      "Shape of y :  (5169,)\n"
     ]
    }
   ],
   "source": [
    "#y to contain target variable, dependent variable\n",
    "y = y\n",
    "\n",
    "# all remaining varible also our independent varibles\n",
    "X = X\n",
    "\n",
    "##### now creating  train test data frame with 80:20 ratio\n",
    "from sklearn.model_selection import train_test_split\n",
    "X_train,X_test,y_train,y_test= train_test_split(X,y, test_size=0.2, random_state=42)\n",
    "\n",
    "\n",
    "\n",
    "# inspent the independent variable\n",
    "print(\"Shape of X : \", X.shape)\n",
    "\n",
    "# inspent the dependent variable\n",
    "print(\"Shape of y : \", y.shape)"
   ]
  },
  {
   "cell_type": "markdown",
   "id": "dacf5fe7",
   "metadata": {},
   "source": [
    "`Insight`\n",
    "\n",
    "- independent variable name and dependent variable name replaced into X, y for CountVectorizer\n",
    "- Dataset is divided into **80:20** ratio"
   ]
  },
  {
   "cell_type": "markdown",
   "id": "0fb6d278",
   "metadata": {},
   "source": [
    "# ----------------------------------------------------------------------------------------------------------"
   ]
  },
  {
   "cell_type": "markdown",
   "id": "a1bcfed9",
   "metadata": {},
   "source": [
    "## 6. Modeling "
   ]
  },
  {
   "cell_type": "markdown",
   "id": "67928488",
   "metadata": {},
   "source": [
    "We will use some different algorithmas\n",
    "- GaussianNB, \n",
    "- MultinomialNB, \n",
    "- BernoulliNB "
   ]
  },
  {
   "cell_type": "code",
   "execution_count": 67,
   "id": "5cfa8130",
   "metadata": {},
   "outputs": [],
   "source": [
    "from sklearn.naive_bayes import GaussianNB, MultinomialNB, BernoulliNB\n",
    "from sklearn.metrics import accuracy_score, confusion_matrix, precision_score"
   ]
  },
  {
   "cell_type": "markdown",
   "id": "42235db6",
   "metadata": {},
   "source": [
    "##### Model 1 - NaiveBayes  ( GaussianNB )"
   ]
  },
  {
   "cell_type": "code",
   "execution_count": 68,
   "id": "fd984fc5",
   "metadata": {
    "scrolled": true
   },
   "outputs": [
    {
     "name": "stdout",
     "output_type": "stream",
     "text": [
      "0.8771760154738878\n",
      "\n",
      "[[784 105]\n",
      " [ 22 123]]\n",
      "\n",
      "0.5394736842105263\n"
     ]
    }
   ],
   "source": [
    "gnb = GaussianNB()\n",
    "gnb.fit(X_train, y_train)\n",
    "\n",
    "y_pred1 = gnb.predict(X_test)\n",
    "y_pred1\n",
    "\n",
    "# evaluating metrics\n",
    "print(accuracy_score(y_test, y_pred1 ))\n",
    "print()\n",
    "print(confusion_matrix(y_test, y_pred1))\n",
    "print()\n",
    "print(precision_score(y_test, y_pred1))"
   ]
  },
  {
   "cell_type": "markdown",
   "id": "5aaebf46",
   "metadata": {},
   "source": [
    "##### Model 2 - NaiveBayes  ( MultinomialNB )"
   ]
  },
  {
   "cell_type": "code",
   "execution_count": 69,
   "id": "08ac1fb9",
   "metadata": {},
   "outputs": [
    {
     "name": "stdout",
     "output_type": "stream",
     "text": [
      "0.941972920696325\n",
      "\n",
      "[[888   1]\n",
      " [ 59  86]]\n",
      "\n",
      "0.9885057471264368\n"
     ]
    }
   ],
   "source": [
    "mnb = MultinomialNB()\n",
    "mnb.fit(X_train, y_train)\n",
    "\n",
    "# prediction\n",
    "\n",
    "y_pred2 = mnb.predict(X_test)\n",
    "y_pred2\n",
    "\n",
    "# evaluating metrics\n",
    "print(accuracy_score(y_test, y_pred2 ))\n",
    "print()\n",
    "print(confusion_matrix(y_test, y_pred2))\n",
    "print()\n",
    "print(precision_score(y_test, y_pred2))"
   ]
  },
  {
   "cell_type": "markdown",
   "id": "26d5e92b",
   "metadata": {},
   "source": [
    "##### Model 3  - NaiveBayes  ( BernualliNB ) "
   ]
  },
  {
   "cell_type": "code",
   "execution_count": 70,
   "id": "151c212d",
   "metadata": {},
   "outputs": [
    {
     "name": "stdout",
     "output_type": "stream",
     "text": [
      "0.9729206963249516\n",
      "\n",
      "[[884   5]\n",
      " [ 23 122]]\n",
      "\n",
      "0.9606299212598425\n"
     ]
    }
   ],
   "source": [
    "bnb = BernoulliNB()\n",
    "bnb.fit(X_train, y_train)\n",
    "\n",
    "# prediction\n",
    "\n",
    "y_pred3 = bnb.predict(X_test)\n",
    "y_pred3\n",
    "\n",
    "# evaluating metrics\n",
    "print(accuracy_score(y_test, y_pred3 ))\n",
    "print()\n",
    "print(confusion_matrix(y_test, y_pred3))\n",
    "print()\n",
    "print(precision_score(y_test, y_pred3))"
   ]
  },
  {
   "cell_type": "markdown",
   "id": "fe43dc23",
   "metadata": {},
   "source": [
    "`insight`\n",
    "\n",
    "- There are three model of NaiveBayes, (**GaussianNB**,   **MultinomialNB**,  **BernualliNB**). \n",
    "- **Tfidf >** **MulitnomialNB** is better than other models.\n",
    "- In this case **Precision is more significant** than accuracy score because the **data is imbalanced**."
   ]
  },
  {
   "cell_type": "code",
   "execution_count": 71,
   "id": "2993fe67",
   "metadata": {},
   "outputs": [],
   "source": [
    "from sklearn.linear_model import LogisticRegression\n",
    "from sklearn.svm import SVC\n",
    "from sklearn.naive_bayes import MultinomialNB\n",
    "from sklearn.tree import DecisionTreeClassifier\n",
    "from sklearn.neighbors import KNeighborsClassifier\n",
    "from sklearn.ensemble import RandomForestClassifier\n",
    "from sklearn.ensemble import AdaBoostClassifier\n",
    "from sklearn.ensemble import BaggingClassifier\n",
    "from sklearn.ensemble import ExtraTreesClassifier\n",
    "from sklearn.ensemble import GradientBoostingClassifier\n",
    "from xgboost import XGBClassifier"
   ]
  },
  {
   "cell_type": "code",
   "execution_count": 72,
   "id": "9edd224d",
   "metadata": {},
   "outputs": [],
   "source": [
    "svc = SVC(kernel='sigmoid', gamma=1.0)\n",
    "knc = KNeighborsClassifier()\n",
    "mnb = MultinomialNB()\n",
    "dtc = DecisionTreeClassifier(max_depth=5)\n",
    "lrc = LogisticRegression(solver='liblinear', penalty='l1')\n",
    "rfc = RandomForestClassifier(n_estimators=50, random_state=2)\n",
    "abc = AdaBoostClassifier(n_estimators=50, random_state=2)\n",
    "bc =  BaggingClassifier(n_estimators=50, random_state=2)\n",
    "etc = ExtraTreesClassifier(n_estimators=50, random_state=2)\n",
    "gbdt =GradientBoostingClassifier(n_estimators=50,random_state=2)\n",
    "xgb = XGBClassifier(n_estimators=50,random_state=2)\n"
   ]
  },
  {
   "cell_type": "code",
   "execution_count": 73,
   "id": "1a439c50",
   "metadata": {},
   "outputs": [],
   "source": [
    "#  DICTIONARY OF CLASSIFIERS\n",
    "\n",
    "clfs = {\n",
    "    'SVC' : svc,\n",
    "    'KN' : knc, \n",
    "    'NB': mnb, \n",
    "    'DT': dtc, \n",
    "    'LR': lrc, \n",
    "    'RF': rfc, \n",
    "    'AdaBoost': abc, \n",
    "    'BgC': bc, \n",
    "    'ETC': etc,\n",
    "    'GBDT':gbdt,\n",
    "    'XGB':xgb\n",
    "}"
   ]
  },
  {
   "cell_type": "code",
   "execution_count": 74,
   "id": "6208fa42",
   "metadata": {},
   "outputs": [],
   "source": [
    "import sklearn.metrics as metrics\n",
    "\n",
    "def train_classifier(clf,X_train,y_train,X_test,y_test):\n",
    "    clf.fit(X_train,y_train)\n",
    "    y_pred = clf.predict(X_test)\n",
    "    #train_accuracy = accuracy_score(X_train, y_train)\n",
    "    accuracy = accuracy_score(y_test,y_pred)\n",
    "    precision = precision_score(y_test, y_pred)\n",
    "    f1 = metrics.f1_score(y_test, y_pred)\n",
    "    recall = metrics.recall_score(y_test, y_pred)\n",
    "    \n",
    "    return accuracy,precision,f1,recall"
   ]
  },
  {
   "cell_type": "code",
   "execution_count": 75,
   "id": "8d99affb",
   "metadata": {},
   "outputs": [],
   "source": [
    "#train_classifier(svc,X_train,y_train,X_test,y_test)"
   ]
  },
  {
   "cell_type": "code",
   "execution_count": 76,
   "id": "66616640",
   "metadata": {},
   "outputs": [],
   "source": [
    "#train_classifier(etc,X_train,y_train,X_test,y_test)"
   ]
  },
  {
   "cell_type": "markdown",
   "id": "03729d98",
   "metadata": {},
   "source": [
    "##### Now we make a data frame of model name with evaluation metrics\n"
   ]
  },
  {
   "cell_type": "code",
   "execution_count": 77,
   "id": "5e37e1af",
   "metadata": {},
   "outputs": [
    {
     "name": "stdout",
     "output_type": "stream",
     "text": [
      "\n",
      "For classifier  SVC :\n",
      "  Test_Accuracy -  0.8597678916827853\n",
      "  Precision -  0.0\n",
      "  F1 Score -  0.0\n",
      "  Recall -  0.0\n",
      "\n",
      "For classifier  KN :\n",
      "  Test_Accuracy -  0.9274661508704062\n",
      "  Precision -  0.7868852459016393\n",
      "  F1 Score -  0.7191011235955056\n",
      "  Recall -  0.6620689655172414\n",
      "\n",
      "For classifier  NB :\n",
      "  Test_Accuracy -  0.941972920696325\n",
      "  Precision -  0.9885057471264368\n",
      "  F1 Score -  0.7413793103448276\n",
      "  Recall -  0.593103448275862\n",
      "\n",
      "For classifier  DT :\n",
      "  Test_Accuracy -  0.9303675048355899\n",
      "  Precision -  0.8230088495575221\n",
      "  F1 Score -  0.7209302325581395\n",
      "  Recall -  0.6413793103448275\n",
      "\n",
      "For classifier  LR :\n",
      "  Test_Accuracy -  0.9555125725338491\n",
      "  Precision -  0.9090909090909091\n",
      "  F1 Score -  0.8270676691729324\n",
      "  Recall -  0.7586206896551724\n",
      "\n",
      "For classifier  RF :\n",
      "  Test_Accuracy -  0.971953578336557\n",
      "  Precision -  0.9833333333333333\n",
      "  F1 Score -  0.890566037735849\n",
      "  Recall -  0.8137931034482758\n",
      "\n",
      "For classifier  AdaBoost :\n",
      "  Test_Accuracy -  0.9661508704061895\n",
      "  Precision -  0.9104477611940298\n",
      "  F1 Score -  0.8745519713261648\n",
      "  Recall -  0.8413793103448276\n",
      "\n",
      "For classifier  BgC :\n",
      "  Test_Accuracy -  0.9613152804642167\n",
      "  Precision -  0.8571428571428571\n",
      "  F1 Score -  0.8630136986301369\n",
      "  Recall -  0.8689655172413793\n",
      "\n",
      "For classifier  ETC :\n",
      "  Test_Accuracy -  0.9758220502901354\n",
      "  Precision -  0.9615384615384616\n",
      "  F1 Score -  0.9090909090909091\n",
      "  Recall -  0.8620689655172413\n",
      "\n",
      "For classifier  GBDT :\n",
      "  Test_Accuracy -  0.9506769825918762\n",
      "  Precision -  0.9272727272727272\n",
      "  F1 Score -  0.7999999999999998\n",
      "  Recall -  0.7034482758620689\n",
      "\n",
      "For classifier  XGB :\n",
      "  Test_Accuracy -  0.9680851063829787\n",
      "  Precision -  0.9375\n",
      "  F1 Score -  0.8791208791208792\n",
      "  Recall -  0.8275862068965517\n"
     ]
    }
   ],
   "source": [
    "accuracy_scores = []\n",
    "precision_scores = []\n",
    "f1_scores = []\n",
    "recall_scores = []\n",
    "\n",
    "for name,clf in clfs.items():\n",
    "    \n",
    "    current_accuracy, current_precision, f1_score, recall_score = train_classifier(clf, X_train,y_train,X_test,y_test)\n",
    "    \n",
    "    print(\"\\nFor classifier \",name, \":\")\n",
    "\n",
    "    print(\"  Test_Accuracy - \",current_accuracy)\n",
    "    print(\"  Precision - \", current_precision)\n",
    "    print(\"  F1 Score - \", f1_score)\n",
    "    print(\"  Recall - \",recall_score)\n",
    "    \n",
    "    accuracy_scores.append(current_accuracy)\n",
    "    precision_scores.append(current_precision)\n",
    "    f1_scores.append(f1_score)\n",
    "    recall_scores.append(recall_score)"
   ]
  },
  {
   "cell_type": "code",
   "execution_count": 78,
   "id": "9399c5e0",
   "metadata": {},
   "outputs": [],
   "source": [
    "performance_df = pd.DataFrame({'Algorithm':clfs.keys(), 'Recall':recall_scores, 'F1_Score':f1_scores,'Test_Accuracy':accuracy_scores,'Precision':precision_scores}).sort_values('Precision',ascending=False)"
   ]
  },
  {
   "cell_type": "code",
   "execution_count": 79,
   "id": "4ebd7e51",
   "metadata": {},
   "outputs": [
    {
     "data": {
      "text/html": [
       "<div>\n",
       "<style scoped>\n",
       "    .dataframe tbody tr th:only-of-type {\n",
       "        vertical-align: middle;\n",
       "    }\n",
       "\n",
       "    .dataframe tbody tr th {\n",
       "        vertical-align: top;\n",
       "    }\n",
       "\n",
       "    .dataframe thead th {\n",
       "        text-align: right;\n",
       "    }\n",
       "</style>\n",
       "<table border=\"1\" class=\"dataframe\">\n",
       "  <thead>\n",
       "    <tr style=\"text-align: right;\">\n",
       "      <th></th>\n",
       "      <th>Algorithm</th>\n",
       "      <th>Recall</th>\n",
       "      <th>F1_Score</th>\n",
       "      <th>Test_Accuracy</th>\n",
       "      <th>Precision</th>\n",
       "    </tr>\n",
       "  </thead>\n",
       "  <tbody>\n",
       "    <tr>\n",
       "      <th>2</th>\n",
       "      <td>NB</td>\n",
       "      <td>0.593103</td>\n",
       "      <td>0.741379</td>\n",
       "      <td>0.941973</td>\n",
       "      <td>0.988506</td>\n",
       "    </tr>\n",
       "    <tr>\n",
       "      <th>5</th>\n",
       "      <td>RF</td>\n",
       "      <td>0.813793</td>\n",
       "      <td>0.890566</td>\n",
       "      <td>0.971954</td>\n",
       "      <td>0.983333</td>\n",
       "    </tr>\n",
       "    <tr>\n",
       "      <th>8</th>\n",
       "      <td>ETC</td>\n",
       "      <td>0.862069</td>\n",
       "      <td>0.909091</td>\n",
       "      <td>0.975822</td>\n",
       "      <td>0.961538</td>\n",
       "    </tr>\n",
       "    <tr>\n",
       "      <th>10</th>\n",
       "      <td>XGB</td>\n",
       "      <td>0.827586</td>\n",
       "      <td>0.879121</td>\n",
       "      <td>0.968085</td>\n",
       "      <td>0.937500</td>\n",
       "    </tr>\n",
       "    <tr>\n",
       "      <th>9</th>\n",
       "      <td>GBDT</td>\n",
       "      <td>0.703448</td>\n",
       "      <td>0.800000</td>\n",
       "      <td>0.950677</td>\n",
       "      <td>0.927273</td>\n",
       "    </tr>\n",
       "    <tr>\n",
       "      <th>6</th>\n",
       "      <td>AdaBoost</td>\n",
       "      <td>0.841379</td>\n",
       "      <td>0.874552</td>\n",
       "      <td>0.966151</td>\n",
       "      <td>0.910448</td>\n",
       "    </tr>\n",
       "    <tr>\n",
       "      <th>4</th>\n",
       "      <td>LR</td>\n",
       "      <td>0.758621</td>\n",
       "      <td>0.827068</td>\n",
       "      <td>0.955513</td>\n",
       "      <td>0.909091</td>\n",
       "    </tr>\n",
       "    <tr>\n",
       "      <th>7</th>\n",
       "      <td>BgC</td>\n",
       "      <td>0.868966</td>\n",
       "      <td>0.863014</td>\n",
       "      <td>0.961315</td>\n",
       "      <td>0.857143</td>\n",
       "    </tr>\n",
       "    <tr>\n",
       "      <th>3</th>\n",
       "      <td>DT</td>\n",
       "      <td>0.641379</td>\n",
       "      <td>0.720930</td>\n",
       "      <td>0.930368</td>\n",
       "      <td>0.823009</td>\n",
       "    </tr>\n",
       "    <tr>\n",
       "      <th>1</th>\n",
       "      <td>KN</td>\n",
       "      <td>0.662069</td>\n",
       "      <td>0.719101</td>\n",
       "      <td>0.927466</td>\n",
       "      <td>0.786885</td>\n",
       "    </tr>\n",
       "    <tr>\n",
       "      <th>0</th>\n",
       "      <td>SVC</td>\n",
       "      <td>0.000000</td>\n",
       "      <td>0.000000</td>\n",
       "      <td>0.859768</td>\n",
       "      <td>0.000000</td>\n",
       "    </tr>\n",
       "  </tbody>\n",
       "</table>\n",
       "</div>"
      ],
      "text/plain": [
       "   Algorithm    Recall  F1_Score  Test_Accuracy  Precision\n",
       "2         NB  0.593103  0.741379       0.941973   0.988506\n",
       "5         RF  0.813793  0.890566       0.971954   0.983333\n",
       "8        ETC  0.862069  0.909091       0.975822   0.961538\n",
       "10       XGB  0.827586  0.879121       0.968085   0.937500\n",
       "9       GBDT  0.703448  0.800000       0.950677   0.927273\n",
       "6   AdaBoost  0.841379  0.874552       0.966151   0.910448\n",
       "4         LR  0.758621  0.827068       0.955513   0.909091\n",
       "7        BgC  0.868966  0.863014       0.961315   0.857143\n",
       "3         DT  0.641379  0.720930       0.930368   0.823009\n",
       "1         KN  0.662069  0.719101       0.927466   0.786885\n",
       "0        SVC  0.000000  0.000000       0.859768   0.000000"
      ]
     },
     "execution_count": 79,
     "metadata": {},
     "output_type": "execute_result"
    }
   ],
   "source": [
    "performance_df"
   ]
  },
  {
   "cell_type": "markdown",
   "id": "1a38effb",
   "metadata": {},
   "source": [
    "## - BEST PERFORMANCE AMOUNG ALL CONSIDERING PRECISION - NB and RF\n",
    "### - Overall best performance - NB, ETC  and RF"
   ]
  },
  {
   "cell_type": "markdown",
   "id": "7b5a94b5",
   "metadata": {},
   "source": [
    "#### Visualize the Precision Accuracy of model"
   ]
  },
  {
   "cell_type": "code",
   "execution_count": 80,
   "id": "16fb7ee9",
   "metadata": {},
   "outputs": [],
   "source": [
    "# changing from  wide format to long format\n",
    "performance_df1 = pd.melt(performance_df, id_vars = \"Algorithm\")"
   ]
  },
  {
   "cell_type": "code",
   "execution_count": 81,
   "id": "0701f8a4",
   "metadata": {
    "scrolled": false
   },
   "outputs": [
    {
     "data": {
      "image/png": "[encoded data removed]",
      "text/plain": [
       "<Figure size 1099.85x432 with 1 Axes>"
      ]
     },
     "metadata": {
      "needs_background": "light"
     },
     "output_type": "display_data"
    }
   ],
   "source": [
    "cols = cols= ['blue','#ff8975', 'mediumpurple','brown'] \n",
    "sns.catplot(x = 'Algorithm', y='value', hue = 'variable',data=performance_df1, kind='bar',height=6, palette = cols, aspect=2.3)\n",
    "\n",
    "plt.ylim(0.0, 1.0)\n",
    "plt.xticks(rotation=45)\n",
    "plt.show()"
   ]
  },
  {
   "cell_type": "markdown",
   "id": "ae2d7ae2",
   "metadata": {},
   "source": [
    "### Now imporve the model using some techniques"
   ]
  },
  {
   "cell_type": "markdown",
   "id": "7f1fe634",
   "metadata": {},
   "source": [
    "1. Change the max_features parameter of Tfidf to 1000 , 2000 , 3000\n",
    "2. Try min_max_scaler \n",
    "3. Using Voting and stacking Classifiers (combination of best performing models)"
   ]
  },
  {
   "cell_type": "code",
   "execution_count": 82,
   "id": "32ed093a",
   "metadata": {},
   "outputs": [],
   "source": [
    "# max_accuracy at 3000\n",
    "\n",
    "temp_df = pd.DataFrame({'Algorithm':clfs.keys(),\n",
    "                        'Accuracy_max':accuracy_scores,\n",
    "                        'Precision_max':precision_scores}).sort_values('Precision_max',ascending=False)\n",
    "\n",
    "temp_df = pd.DataFrame({\"Algorithm\": clfs.keys(),\n",
    "                       \"Accuracy_scaling_at_3000\":accuracy_scores,\n",
    "                       \"Precision_scaling_at_3000\":precision_scores}).sort_values(\"Precision_scaling_at_3000\", ascending=False)"
   ]
  },
  {
   "cell_type": "code",
   "execution_count": 83,
   "id": "c834efe4",
   "metadata": {},
   "outputs": [],
   "source": [
    "new_scaled_df = performance_df.merge(temp_df, on=\"Algorithm\")  "
   ]
  },
  {
   "cell_type": "code",
   "execution_count": 84,
   "id": "6494b028",
   "metadata": {},
   "outputs": [
    {
     "data": {
      "text/html": [
       "<div>\n",
       "<style scoped>\n",
       "    .dataframe tbody tr th:only-of-type {\n",
       "        vertical-align: middle;\n",
       "    }\n",
       "\n",
       "    .dataframe tbody tr th {\n",
       "        vertical-align: top;\n",
       "    }\n",
       "\n",
       "    .dataframe thead th {\n",
       "        text-align: right;\n",
       "    }\n",
       "</style>\n",
       "<table border=\"1\" class=\"dataframe\">\n",
       "  <thead>\n",
       "    <tr style=\"text-align: right;\">\n",
       "      <th></th>\n",
       "      <th>Algorithm</th>\n",
       "      <th>Recall</th>\n",
       "      <th>F1_Score</th>\n",
       "      <th>Test_Accuracy</th>\n",
       "      <th>Precision</th>\n",
       "      <th>Accuracy_scaling_at_3000</th>\n",
       "      <th>Precision_scaling_at_3000</th>\n",
       "    </tr>\n",
       "  </thead>\n",
       "  <tbody>\n",
       "    <tr>\n",
       "      <th>0</th>\n",
       "      <td>NB</td>\n",
       "      <td>0.593103</td>\n",
       "      <td>0.741379</td>\n",
       "      <td>0.941973</td>\n",
       "      <td>0.988506</td>\n",
       "      <td>0.941973</td>\n",
       "      <td>0.988506</td>\n",
       "    </tr>\n",
       "    <tr>\n",
       "      <th>1</th>\n",
       "      <td>RF</td>\n",
       "      <td>0.813793</td>\n",
       "      <td>0.890566</td>\n",
       "      <td>0.971954</td>\n",
       "      <td>0.983333</td>\n",
       "      <td>0.971954</td>\n",
       "      <td>0.983333</td>\n",
       "    </tr>\n",
       "    <tr>\n",
       "      <th>2</th>\n",
       "      <td>ETC</td>\n",
       "      <td>0.862069</td>\n",
       "      <td>0.909091</td>\n",
       "      <td>0.975822</td>\n",
       "      <td>0.961538</td>\n",
       "      <td>0.975822</td>\n",
       "      <td>0.961538</td>\n",
       "    </tr>\n",
       "    <tr>\n",
       "      <th>3</th>\n",
       "      <td>XGB</td>\n",
       "      <td>0.827586</td>\n",
       "      <td>0.879121</td>\n",
       "      <td>0.968085</td>\n",
       "      <td>0.937500</td>\n",
       "      <td>0.968085</td>\n",
       "      <td>0.937500</td>\n",
       "    </tr>\n",
       "    <tr>\n",
       "      <th>4</th>\n",
       "      <td>GBDT</td>\n",
       "      <td>0.703448</td>\n",
       "      <td>0.800000</td>\n",
       "      <td>0.950677</td>\n",
       "      <td>0.927273</td>\n",
       "      <td>0.950677</td>\n",
       "      <td>0.927273</td>\n",
       "    </tr>\n",
       "    <tr>\n",
       "      <th>5</th>\n",
       "      <td>AdaBoost</td>\n",
       "      <td>0.841379</td>\n",
       "      <td>0.874552</td>\n",
       "      <td>0.966151</td>\n",
       "      <td>0.910448</td>\n",
       "      <td>0.966151</td>\n",
       "      <td>0.910448</td>\n",
       "    </tr>\n",
       "    <tr>\n",
       "      <th>6</th>\n",
       "      <td>LR</td>\n",
       "      <td>0.758621</td>\n",
       "      <td>0.827068</td>\n",
       "      <td>0.955513</td>\n",
       "      <td>0.909091</td>\n",
       "      <td>0.955513</td>\n",
       "      <td>0.909091</td>\n",
       "    </tr>\n",
       "    <tr>\n",
       "      <th>7</th>\n",
       "      <td>BgC</td>\n",
       "      <td>0.868966</td>\n",
       "      <td>0.863014</td>\n",
       "      <td>0.961315</td>\n",
       "      <td>0.857143</td>\n",
       "      <td>0.961315</td>\n",
       "      <td>0.857143</td>\n",
       "    </tr>\n",
       "    <tr>\n",
       "      <th>8</th>\n",
       "      <td>DT</td>\n",
       "      <td>0.641379</td>\n",
       "      <td>0.720930</td>\n",
       "      <td>0.930368</td>\n",
       "      <td>0.823009</td>\n",
       "      <td>0.930368</td>\n",
       "      <td>0.823009</td>\n",
       "    </tr>\n",
       "    <tr>\n",
       "      <th>9</th>\n",
       "      <td>KN</td>\n",
       "      <td>0.662069</td>\n",
       "      <td>0.719101</td>\n",
       "      <td>0.927466</td>\n",
       "      <td>0.786885</td>\n",
       "      <td>0.927466</td>\n",
       "      <td>0.786885</td>\n",
       "    </tr>\n",
       "    <tr>\n",
       "      <th>10</th>\n",
       "      <td>SVC</td>\n",
       "      <td>0.000000</td>\n",
       "      <td>0.000000</td>\n",
       "      <td>0.859768</td>\n",
       "      <td>0.000000</td>\n",
       "      <td>0.859768</td>\n",
       "      <td>0.000000</td>\n",
       "    </tr>\n",
       "  </tbody>\n",
       "</table>\n",
       "</div>"
      ],
      "text/plain": [
       "   Algorithm    Recall  F1_Score  Test_Accuracy  Precision  \\\n",
       "0         NB  0.593103  0.741379       0.941973   0.988506   \n",
       "1         RF  0.813793  0.890566       0.971954   0.983333   \n",
       "2        ETC  0.862069  0.909091       0.975822   0.961538   \n",
       "3        XGB  0.827586  0.879121       0.968085   0.937500   \n",
       "4       GBDT  0.703448  0.800000       0.950677   0.927273   \n",
       "5   AdaBoost  0.841379  0.874552       0.966151   0.910448   \n",
       "6         LR  0.758621  0.827068       0.955513   0.909091   \n",
       "7        BgC  0.868966  0.863014       0.961315   0.857143   \n",
       "8         DT  0.641379  0.720930       0.930368   0.823009   \n",
       "9         KN  0.662069  0.719101       0.927466   0.786885   \n",
       "10       SVC  0.000000  0.000000       0.859768   0.000000   \n",
       "\n",
       "    Accuracy_scaling_at_3000  Precision_scaling_at_3000  \n",
       "0                   0.941973                   0.988506  \n",
       "1                   0.971954                   0.983333  \n",
       "2                   0.975822                   0.961538  \n",
       "3                   0.968085                   0.937500  \n",
       "4                   0.950677                   0.927273  \n",
       "5                   0.966151                   0.910448  \n",
       "6                   0.955513                   0.909091  \n",
       "7                   0.961315                   0.857143  \n",
       "8                   0.930368                   0.823009  \n",
       "9                   0.927466                   0.786885  \n",
       "10                  0.859768                   0.000000  "
      ]
     },
     "execution_count": 84,
     "metadata": {},
     "output_type": "execute_result"
    }
   ],
   "source": [
    "new_scaled_df"
   ]
  },
  {
   "cell_type": "markdown",
   "id": "03c695cc",
   "metadata": {},
   "source": [
    "`insight`\n",
    "\n",
    "- No major improvement after scaling the features. But after setting max_feature = 3000, "
   ]
  },
  {
   "cell_type": "markdown",
   "id": "a9d397a0",
   "metadata": {},
   "source": [
    "### 3. Now we try Voting and Stacking for better improvement"
   ]
  },
  {
   "cell_type": "markdown",
   "id": "c740ea68",
   "metadata": {},
   "source": [
    "##### Voting Classifier with KN, RF, ETC"
   ]
  },
  {
   "cell_type": "code",
   "execution_count": 85,
   "id": "3b078447",
   "metadata": {},
   "outputs": [],
   "source": [
    "from sklearn.ensemble import VotingClassifier\n",
    "\n",
    "\n",
    "knc = KNeighborsClassifier()\n",
    "mnb = MultinomialNB()\n",
    "etc = ExtraTreesClassifier(n_estimators=50, random_state=2)"
   ]
  },
  {
   "cell_type": "code",
   "execution_count": 86,
   "id": "4ab977d6",
   "metadata": {},
   "outputs": [],
   "source": [
    "voting = VotingClassifier(estimators=[(\"knc\", knc), (\"mnb\", mnb),(\"etc\", etc)], voting=\"soft\")"
   ]
  },
  {
   "cell_type": "code",
   "execution_count": 87,
   "id": "68aa80a5",
   "metadata": {},
   "outputs": [
    {
     "data": {
      "text/plain": [
       "VotingClassifier(estimators=[('knc', KNeighborsClassifier()),\n",
       "                             ('mnb', MultinomialNB()),\n",
       "                             ('etc',\n",
       "                              ExtraTreesClassifier(n_estimators=50,\n",
       "                                                   random_state=2))],\n",
       "                 voting='soft')"
      ]
     },
     "execution_count": 87,
     "metadata": {},
     "output_type": "execute_result"
    }
   ],
   "source": [
    "voting.fit(X_train, y_train)"
   ]
  },
  {
   "cell_type": "code",
   "execution_count": 88,
   "id": "624ef203",
   "metadata": {},
   "outputs": [
    {
     "name": "stdout",
     "output_type": "stream",
     "text": [
      "Accuracy 0.965183752417795\n",
      "Precision 1.0\n",
      "[[889   0]\n",
      " [ 36 109]]\n"
     ]
    }
   ],
   "source": [
    "y_pred = voting.predict(X_test)\n",
    "\n",
    "print(\"Accuracy\", accuracy_score(y_test, y_pred))\n",
    "print(\"Precision\", precision_score(y_test, y_pred))\n",
    "print(confusion_matrix(y_test,y_pred))"
   ]
  },
  {
   "cell_type": "markdown",
   "id": "a6e2ea06",
   "metadata": {},
   "source": [
    "`insight`\n",
    "\n",
    "- False Positive is 0\n",
    "\n",
    "- Accuracy 0.965183752417795\n",
    "- Precision 1.0"
   ]
  },
  {
   "cell_type": "markdown",
   "id": "7533be45",
   "metadata": {},
   "source": [
    "##### Stacking Classifier"
   ]
  },
  {
   "cell_type": "code",
   "execution_count": 90,
   "id": "955018a8",
   "metadata": {},
   "outputs": [],
   "source": [
    "from sklearn.ensemble import StackingClassifier"
   ]
  },
  {
   "cell_type": "code",
   "execution_count": 89,
   "id": "8be6381c",
   "metadata": {},
   "outputs": [],
   "source": [
    "estimators =[(\"knc\", knc), (\"mnb\", mnb),(\"etc\", etc)]\n",
    "\n",
    "final_estimators = RandomForestClassifier()"
   ]
  },
  {
   "cell_type": "code",
   "execution_count": 91,
   "id": "b9dc19f1",
   "metadata": {},
   "outputs": [
    {
     "data": {
      "text/plain": [
       "StackingClassifier(estimators=[('knc', KNeighborsClassifier()),\n",
       "                               ('mnb', MultinomialNB()),\n",
       "                               ('etc',\n",
       "                                ExtraTreesClassifier(n_estimators=50,\n",
       "                                                     random_state=2))],\n",
       "                   final_estimator=RandomForestClassifier())"
      ]
     },
     "execution_count": 91,
     "metadata": {},
     "output_type": "execute_result"
    }
   ],
   "source": [
    "clf = StackingClassifier(estimators=estimators, final_estimator=final_estimators)\n",
    "clf.fit(X_train, y_train)"
   ]
  },
  {
   "cell_type": "code",
   "execution_count": 92,
   "id": "28e45267",
   "metadata": {},
   "outputs": [
    {
     "name": "stdout",
     "output_type": "stream",
     "text": [
      "Accuracy at stacing  0.9748549323017408\n",
      "Precision at Stacing 0.9047619047619048\n"
     ]
    }
   ],
   "source": [
    "y_pred = clf.predict(X_test)\n",
    "print(\"Accuracy at stacing \", accuracy_score(y_test, y_pred))\n",
    "print(\"Precision at Stacing\", precision_score(y_test, y_pred))\n"
   ]
  },
  {
   "cell_type": "markdown",
   "id": "f1dd9333",
   "metadata": {},
   "source": [
    "`insight`\n",
    "\n",
    "- No major improvement Accuracy and Precision in Stacking"
   ]
  },
  {
   "cell_type": "markdown",
   "id": "9a7f940d",
   "metadata": {},
   "source": [
    "## Final Model"
   ]
  },
  {
   "cell_type": "markdown",
   "id": "81cb6002",
   "metadata": {},
   "source": [
    "Hence we will use **Voting Classifier** as Final Model as it has best combination of precision and accuracy\n",
    "\n",
    "\n",
    "-  Accuracy  : 0.9719\n",
    "- Precision : 1"
   ]
  },
  {
   "cell_type": "code",
   "execution_count": null,
   "id": "c17dded1",
   "metadata": {},
   "outputs": [],
   "source": [
    "# Saving Our Model \n",
    "import pickle\n",
    "\n",
    "pickle.dump(tfidfv, open(\"vectorizer.pkl\",\"wb\"))\n",
    "pickle.dump(voting, open(\"model.pkl\",\"wb\"))"
   ]
  },
  {
   "cell_type": "markdown",
   "id": "c8dcd903",
   "metadata": {},
   "source": [
    "## 10. Report"
   ]
  },
  {
   "cell_type": "markdown",
   "id": "6bf0778e",
   "metadata": {},
   "source": [
    "Out of multiple classifers tried, we finally went with **Voting classifier** based on the **evaluation metrics : Precision and Accuracy** (on test data)\n"
   ]
  },
  {
   "cell_type": "markdown",
   "id": "9b56f227",
   "metadata": {},
   "source": [
    "Note :\n",
    "For us, a higher value of False Positive will be the worst case scenario as non-spam emails getting classified as \"Spam\" can result in real damage. Hence in order to ensure minimum False Positive implies that we need to have a Higher Precision value and that's what makes Precision the most important Evaluation Metric for us"
   ]
  },
  {
   "cell_type": "markdown",
   "id": "56fb98b9",
   "metadata": {},
   "source": [
    "**Hence we went ahead with the model with offered 100% Precision score with 97.19% Accuracy o our test data!**"
   ]
  }
 ],
 "metadata": {
  "kernelspec": {
   "display_name": "Python 3 (ipykernel)",
   "language": "python",
   "name": "python3"
  },
  "language_info": {
   "codemirror_mode": {
    "name": "ipython",
    "version": 3
   },
   "file_extension": ".py",
   "mimetype": "text/x-python",
   "name": "python",
   "nbconvert_exporter": "python",
   "pygments_lexer": "ipython3",
   "version": "3.9.7"
  }
 },
 "nbformat": 4,
 "nbformat_minor": 5
}
